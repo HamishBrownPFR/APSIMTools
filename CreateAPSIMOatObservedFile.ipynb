{
 "cells": [
  {
   "cell_type": "code",
   "execution_count": 1,
   "metadata": {
    "collapsed": true
   },
   "outputs": [],
   "source": [
    "import datetime\n",
    "import pandas as pd\n",
    "import numpy as np\n",
    "import matplotlib.pyplot as plt\n",
    "%matplotlib inline"
   ]
  },
  {
   "cell_type": "markdown",
   "metadata": {},
   "source": [
    "## Bring biomass data into dataframe"
   ]
  },
  {
   "cell_type": "code",
   "execution_count": 2,
   "metadata": {
    "collapsed": false
   },
   "outputs": [],
   "source": [
    "Observations = pd.read_excel('C:\\Users\\cflhxb\\Dropbox\\APSIMOats\\Observations.xlsx',sheetname='Observations')\n",
    "obsPhenology = pd.read_excel('C:\\Users\\cflhxb\\Dropbox\\APSIMOats\\Observations.xlsx',sheetname='obsPhenology')\n",
    "ObsStructure = pd.read_excel('C:\\Users\\cflhxb\\Dropbox\\APSIMOats\\Observations.xlsx',sheetname='ObsStructure')\n",
    "Obs2016 = pd.read_excel('C:\\Users\\cflhxb\\Dropbox\\APSIMOats\\Observations.xlsx',sheetname='Obs2016')\n",
    "Obs2015 = pd.read_excel('C:\\Users\\cflhxb\\Dropbox\\APSIMOats\\Observations.xlsx',sheetname='Obs2015')\n",
    "RS_SW_Obs = pd.read_excel('C:\\Users\\cflhxb\\Dropbox\\APSIMOats\\Observations.xlsx',sheetname='RS_SW_Obs')\n",
    "RS_Oats_9899_leaf = pd.read_excel('C:\\Users\\cflhxb\\Dropbox\\APSIMOats\\Observations.xlsx',sheetname='RS_Oats_9899_leaf')\n",
    "RS_Oats_9899_deadLeaf = pd.read_excel('C:\\Users\\cflhxb\\Dropbox\\APSIMOats\\Observations.xlsx',sheetname='RS_Oats_9899_deadLeaf')\n",
    "RS_Oats_Cover = pd.read_excel('C:\\Users\\cflhxb\\Dropbox\\APSIMOats\\Observations.xlsx',sheetname='RS_Cover_obs')"
   ]
  },
  {
   "cell_type": "code",
   "execution_count": 3,
   "metadata": {
    "collapsed": true
   },
   "outputs": [],
   "source": [
    "AllDataTabs = [Observations,obsPhenology,ObsStructure,Obs2016,Obs2015,RS_SW_Obs,RS_Oats_9899_leaf,RS_Oats_9899_deadLeaf,RS_Oats_Cover]"
   ]
  },
  {
   "cell_type": "markdown",
   "metadata": {},
   "source": [
    "## Make a column index"
   ]
  },
  {
   "cell_type": "code",
   "execution_count": 4,
   "metadata": {
    "collapsed": false
   },
   "outputs": [],
   "source": [
    "ColumnIndex = Observations.columns\n",
    "for Table in AllDataTabs:\n",
    "    ColumnIndex = ColumnIndex  | Table.columns  # the union of the merged data frame and the next in the list"
   ]
  },
  {
   "cell_type": "markdown",
   "metadata": {},
   "source": [
    "## Make row index"
   ]
  },
  {
   "cell_type": "code",
   "execution_count": 5,
   "metadata": {
    "collapsed": false
   },
   "outputs": [],
   "source": [
    "RowIndexData = Observations.ix[:,Observations.columns.isin(['SimulationName','Clock.Today'])]\n",
    "for Table in AllDataTabs:\n",
    "    RowIndexData = pd.concat([RowIndexData,Table.ix[:,Table.columns.isin(['SimulationName','Clock.Today'])]],axis=0)\n",
    "RowIndex = RowIndexData.drop_duplicates()\n",
    "RowIndex.set_index(['SimulationName','Clock.Today'],inplace=True)"
   ]
  },
  {
   "cell_type": "markdown",
   "metadata": {},
   "source": [
    "## Make empty Data frame"
   ]
  },
  {
   "cell_type": "code",
   "execution_count": 6,
   "metadata": {
    "collapsed": false
   },
   "outputs": [],
   "source": [
    "ObsDataFrame = pd.DataFrame(index=RowIndex.index, columns=ColumnIndex)"
   ]
  },
  {
   "cell_type": "markdown",
   "metadata": {},
   "source": [
    "## Set indexes in the smaller tables and deal to duplicate rows"
   ]
  },
  {
   "cell_type": "code",
   "execution_count": 7,
   "metadata": {
    "collapsed": true
   },
   "outputs": [],
   "source": [
    "from collections import Counter\n",
    "def MakeMean(ser):\n",
    "    Series = pd.Series(index=ser.columns)\n",
    "    for Group in ser.columns:\n",
    "        if isinstance(Group, float):\n",
    "            Series[Group] = ser[Group].mean()\n",
    "        else:\n",
    "            Series[Group] = Counter(ser[Group]).most_common(1)[0][0]\n",
    "    return Series        "
   ]
  },
  {
   "cell_type": "code",
   "execution_count": 8,
   "metadata": {
    "collapsed": false
   },
   "outputs": [],
   "source": [
    "CompressedData = []\n",
    "for Table in AllDataTabs:\n",
    "    Table.set_index(['SimulationName','Clock.Today'],inplace=True)\n",
    "    Compressed = Table.groupby(level=['SimulationName','Clock.Today']).apply(MakeMean)\n",
    "    CompressedData.append(Compressed)"
   ]
  },
  {
   "cell_type": "code",
   "execution_count": 9,
   "metadata": {
    "collapsed": false
   },
   "outputs": [],
   "source": [
    "for DataTable in range(len(CompressedData)):\n",
    "    ObsDataFrame.update(CompressedData[DataTable])\n"
   ]
  },
  {
   "cell_type": "code",
   "execution_count": 10,
   "metadata": {
    "collapsed": false
   },
   "outputs": [],
   "source": [
    "ObsDataFrame.to_excel('C:\\Users\\cflhxb\\Dropbox\\Observed.xlsx',merge_cells=False,sheet_name='Observed')"
   ]
  }
 ],
 "metadata": {
  "kernelspec": {
   "display_name": "Python 2",
   "language": "python",
   "name": "python2"
  },
  "language_info": {
   "codemirror_mode": {
    "name": "ipython",
    "version": 2
   },
   "file_extension": ".py",
   "mimetype": "text/x-python",
   "name": "python",
   "nbconvert_exporter": "python",
   "pygments_lexer": "ipython2",
   "version": "2.7.12"
  }
 },
 "nbformat": 4,
 "nbformat_minor": 0
}
