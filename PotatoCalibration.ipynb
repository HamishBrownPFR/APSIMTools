{
 "cells": [
  {
   "cell_type": "code",
   "execution_count": 4,
   "metadata": {},
   "outputs": [
    {
     "ename": "ModuleNotFoundError",
     "evalue": "No module named 'MathsUtilities'",
     "output_type": "error",
     "traceback": [
      "\u001b[1;31m---------------------------------------------------------------------------\u001b[0m",
      "\u001b[1;31mModuleNotFoundError\u001b[0m                       Traceback (most recent call last)",
      "\u001b[1;32m<ipython-input-4-2f41b47e548d>\u001b[0m in \u001b[0;36m<module>\u001b[1;34m\u001b[0m\n\u001b[0;32m      6\u001b[0m \u001b[1;32mimport\u001b[0m \u001b[0mstatsmodels\u001b[0m\u001b[1;33m.\u001b[0m\u001b[0mapi\u001b[0m \u001b[1;32mas\u001b[0m \u001b[0msm\u001b[0m\u001b[1;33m\u001b[0m\u001b[1;33m\u001b[0m\u001b[0m\n\u001b[0;32m      7\u001b[0m \u001b[1;32mfrom\u001b[0m \u001b[0mstatsmodels\u001b[0m\u001b[1;33m.\u001b[0m\u001b[0mformula\u001b[0m\u001b[1;33m.\u001b[0m\u001b[0mapi\u001b[0m \u001b[1;32mimport\u001b[0m \u001b[0mols\u001b[0m\u001b[1;33m\u001b[0m\u001b[1;33m\u001b[0m\u001b[0m\n\u001b[1;32m----> 8\u001b[1;33m \u001b[1;32mimport\u001b[0m \u001b[0mMathsUtilities\u001b[0m \u001b[1;32mas\u001b[0m \u001b[0mMUte\u001b[0m\u001b[1;33m\u001b[0m\u001b[1;33m\u001b[0m\u001b[0m\n\u001b[0m\u001b[0;32m      9\u001b[0m \u001b[0mget_ipython\u001b[0m\u001b[1;33m(\u001b[0m\u001b[1;33m)\u001b[0m\u001b[1;33m.\u001b[0m\u001b[0mrun_line_magic\u001b[0m\u001b[1;33m(\u001b[0m\u001b[1;34m'matplotlib'\u001b[0m\u001b[1;33m,\u001b[0m \u001b[1;34m'inline'\u001b[0m\u001b[1;33m)\u001b[0m\u001b[1;33m\u001b[0m\u001b[1;33m\u001b[0m\u001b[0m\n",
      "\u001b[1;31mModuleNotFoundError\u001b[0m: No module named 'MathsUtilities'"
     ]
    }
   ],
   "source": [
    "import sqlite3\n",
    "import datetime\n",
    "import pandas as pd\n",
    "import numpy as np\n",
    "import matplotlib.pyplot as plt\n",
    "import statsmodels.api as sm\n",
    "from statsmodels.formula.api import ols\n",
    "import MathsUtilities as MUte\n",
    "%matplotlib inline"
   ]
  },
  {
   "cell_type": "code",
   "execution_count": null,
   "metadata": {},
   "outputs": [],
   "source": [
    "Colors = ['darkblue',           \n",
    "'darkcyan',           \n",
    "'darkgoldenrod',      \n",
    "'darkgray',           \n",
    "'darkgreen',          \n",
    "'darkkhaki',          \n",
    "'darkmagenta',        \n",
    "'darkolivegreen',     \n",
    "'darkorange',         \n",
    "'darkorchid',         \n",
    "'darkred',            \n",
    "'darkviolet',\n",
    "'blue',           \n",
    "'cyan',           \n",
    "'goldenrod',      \n",
    "'gray',           \n",
    "'green',\n",
    "'black']\n",
    "Markers = ['o','s','^']"
   ]
  },
  {
   "cell_type": "code",
   "execution_count": null,
   "metadata": {},
   "outputs": [],
   "source": [
    "con = sqlite3.connect(r'C:\\Users\\jjojeda\\Dropbox\\APSIMPotato\\Potato.db')"
   ]
  },
  {
   "cell_type": "code",
   "execution_count": null,
   "metadata": {},
   "outputs": [],
   "source": [
    "HarvestObsPred = pd.read_sql(\"Select * from FinalYieldData\",\n",
    "                        con)\n",
    "#HarvestObsPred.set_index('SimulationID',inplace=True)"
   ]
  },
  {
   "cell_type": "code",
   "execution_count": null,
   "metadata": {
    "scrolled": true
   },
   "outputs": [],
   "source": [
    "HarvestObsPred"
   ]
  },
  {
   "cell_type": "code",
   "execution_count": null,
   "metadata": {},
   "outputs": [],
   "source": [
    "Factors = pd.read_sql(\"Select * from _Factors\",\n",
    "                        con)\n",
    "ValidationIndex = Factors.drop_duplicates(subset=['SimulationName']).loc[:,Factors.columns.isin(['SimulationID','ExperimentName','SimulatinName','FolderName'])]\n",
    "Experiments = ValidationIndex.ExperimentName.drop_duplicates().tolist()\n",
    "Folders = ValidationIndex.FolderName.drop_duplicates().tolist()"
   ]
  },
  {
   "cell_type": "code",
   "execution_count": null,
   "metadata": {
    "scrolled": false
   },
   "outputs": [],
   "source": [
    "HarvestObsPred.columns"
   ]
  },
  {
   "cell_type": "code",
   "execution_count": null,
   "metadata": {},
   "outputs": [],
   "source": [
    "obs=HarvestObsPred.loc[:,'Observed.Potato.TotalLive.Wt']\n",
    "pre=HarvestObsPred.loc[:,'Predicted.Potato.TotalLive.Wt']"
   ]
  },
  {
   "cell_type": "code",
   "execution_count": null,
   "metadata": {},
   "outputs": [],
   "source": [
    "plt.plot(obs,pre,\"o\",color=\"r\")\n",
    "plt.plot([0,2000],[0,2000],\"--\",color=\"k\")"
   ]
  },
  {
   "cell_type": "code",
   "execution_count": null,
   "metadata": {},
   "outputs": [],
   "source": [
    "list(HarvestObsPred.columns)"
   ]
  },
  {
   "cell_type": "code",
   "execution_count": null,
   "metadata": {},
   "outputs": [],
   "source": [
    "pd.options.display.max_rows = 999"
   ]
  },
  {
   "cell_type": "code",
   "execution_count": null,
   "metadata": {
    "scrolled": false
   },
   "outputs": [],
   "source": [
    "Factors.sort_values(by='SimulationID')"
   ]
  },
  {
   "cell_type": "code",
   "execution_count": null,
   "metadata": {},
   "outputs": [],
   "source": [
    "Experiments"
   ]
  },
  {
   "cell_type": "code",
   "execution_count": null,
   "metadata": {},
   "outputs": [],
   "source": [
    "def MakeLabel(RegStats):\n",
    "    #text = RegStats.Name + '  n = ' + str(RegStats.n)\n",
    "    text = '\\ny = ' + '%.2f'%RegStats.Intercept + '(se ' + '%.2f'%RegStats.SEintercept + ') + ' + '%.2f'%RegStats.Slope + '(se ' + '%.2f'%RegStats.SEslope + ') x' \n",
    "    text += '\\n$r^2$ =' + '%.2f'%RegStats.R2 + ' RMSE = ' + '%.2f'%RegStats.RMSE +' NSE = ' + '%.2f'%RegStats.NSE\n",
    "    text += '\\nME = ' + '%.2f'%RegStats.ME + ' MAE = ' + '%.2f'%RegStats.MAE\n",
    "    text += '\\nn = ' + str(RegStats.n)\n",
    "    return text"
   ]
  },
  {
   "cell_type": "code",
   "execution_count": null,
   "metadata": {},
   "outputs": [],
   "source": [
    "HarvestObsPred"
   ]
  },
  {
   "cell_type": "code",
   "execution_count": null,
   "metadata": {
    "scrolled": false
   },
   "outputs": [],
   "source": [
    "Graph = plt.figure(figsize=(15,15))\n",
    "Variables = ['AboveGround.Wt','Grain.Number','Grain.Wt',\n",
    "             'AboveGround.N','Grain.N','Grain.Protein',\n",
    "             'Phenology.FlagLeafDAS.Value()','Phenology.FloweringDAS.Value()']\n",
    "Units = ['$g/m^3$','$/m^3$','$g/m^3$',\n",
    "        '$g/m^3$','$g/m^3$','$g/m^3$',\n",
    "        'days','days']\n",
    "Names = ['Biomass','Grain Number', 'Yield', 'Biomass N', 'Grain N',\n",
    "         'Grain Protein', 'Flag Leaf','Anthesis']\n",
    "Pos = 1\n",
    "for Var in Variables:\n",
    "    NaNFilter = np.isnan(HarvestObsPred.loc[:,'Predicted.Potato.'+Var]) | np.isnan(HarvestObsPred.loc[:,'Observed.Potato.'+Var])\n",
    "    IaNFilter = ~NaNFilter\n",
    "    Obs = HarvestObsPred.loc[:,'Observed.Potato.'+Var].loc[IaNFilter].values\n",
    "    Pred = HarvestObsPred.loc[:,'Predicted.Potato.'+Var].loc[IaNFilter].values\n",
    "    Graph.add_subplot(3,3,Pos)\n",
    "    ColPos = 0\n",
    "    MarPos = 0\n",
    "    for Fol in Folders:\n",
    "        SimIDs = Factors.loc[Factors.FolderName == Fol].SimulationID.values\n",
    "        ExpObs = HarvestObsPred.loc[SimIDs,'Observed.Potato.'+Var]\n",
    "        ExpPred = HarvestObsPred.loc[SimIDs,'Predicted.Potato.'+Var]\n",
    "        plt.plot(ExpObs,ExpPred,Markers[MarPos],color = Colors[ColPos],label=Fol)\n",
    "        ColPos +=1\n",
    "        if ColPos > 16:\n",
    "            ColPos = 1\n",
    "            MarPos +=1\n",
    "    uplim = max(Obs.max(),Pred.max())*1.1\n",
    "    lowlim = min(Obs.min(),Pred.min())*0.95\n",
    "    plt.title(Names[Pos-1] + ' (' + Units[Pos-1] + ')')\n",
    "    plt.ylim(0,uplim)\n",
    "    plt.xlim(0,uplim)\n",
    "    plt.plot([lowlim,uplim*.95],[lowlim,uplim*.95],'-')\n",
    "    RegStats = MUte.MathUtilities.CalcRegressionStats(Var,Pred,Obs)\n",
    "    LabelText = MakeLabel(RegStats)\n",
    "    plt.text(uplim*0.05,uplim*.78,LabelText)\n",
    "    #Fit linear regression to current series and store slope and intercept in dataframe\n",
    "    ModFit = sm.regression.linear_model.OLS(Pred,  # Y variable\n",
    "                                        sm.add_constant(Obs), # X variable\n",
    "                                        missing='drop',                                     # ignor and data where one value is missing\n",
    "                                        hasconst=False) \n",
    "    RegFit = ModFit.fit();  # fit models parameters\n",
    "    Slope = RegFit.params[1] \n",
    "    Intercept = RegFit.params[0]\n",
    "    Xs = [lowlim,uplim*.95]\n",
    "    Ys = [Intercept + Xs[0]*Slope,Intercept + Xs[1]*Slope]\n",
    "    plt.plot(Xs,Ys,'--')\n",
    "    Pos +=1\n",
    "plt.text(70,-50,'Observed',fontsize=20)\n",
    "plt.text(-420,580,'Predicted',fontsize=20,rotation=90)\n",
    "plt.legend(loc = (1.2,0),ncol=1,numpoints=1,markerscale=2)"
   ]
  },
  {
   "cell_type": "code",
   "execution_count": null,
   "metadata": {},
   "outputs": [],
   "source": [
    "DailyObsPred = pd.read_sql(\"Select * from DailyObsPred\",\n",
    "                        con)"
   ]
  },
  {
   "cell_type": "code",
   "execution_count": null,
   "metadata": {},
   "outputs": [],
   "source": [
    "RegStats = MUte.MathUtilities.CalcRegressionStats('Test',Obs,Pred)"
   ]
  },
  {
   "cell_type": "code",
   "execution_count": null,
   "metadata": {},
   "outputs": [],
   "source": []
  },
  {
   "cell_type": "code",
   "execution_count": null,
   "metadata": {},
   "outputs": [],
   "source": [
    "def add_subplot_axes(ax,rect,uplim,axisbg='w'):\n",
    "    fig = plt.gcf()\n",
    "    box = ax.get_position()\n",
    "    width = box.width\n",
    "    height = box.height\n",
    "    inax_position  = ax.transAxes.transform(rect[0:2])\n",
    "    transFigure = fig.transFigure.inverted()\n",
    "    infig_position = transFigure.transform(inax_position)    \n",
    "    x = infig_position[0]\n",
    "    y = infig_position[1]\n",
    "    width *= rect[2]\n",
    "    height *= rect[3] \n",
    "    subax = fig.add_axes([x,y,width,height],axisbg=axisbg,alpha=0.0)\n",
    "#     x_labelsize = subax.get_xticklabels()[0].get_size()\n",
    "#     y_labelsize = subax.get_yticklabels()[0].get_size()\n",
    "#     x_labelsize *= rect[2]**0.5\n",
    "#     y_labelsize *= rect[3]**0.5\n",
    "#     subax.xaxis.set_tick_params(labelsize=x_labelsize)\n",
    "#     subax.yaxis.set_tick_params(labelsize=y_labelsize)\n",
    "#     #subax.ylim(0,uplim)\n",
    "    #subax.xlim(0,uplim)\n",
    "    subax.spines['left'].set_visible(False)\n",
    "    subax.spines['top'].set_visible(False)\n",
    "    subax.yaxis.set_ticks_position('left')\n",
    "    subax.xaxis.set_ticks_position('bottom')\n",
    "    subax.patch.set_alpha(0)\n",
    "    subax.xaxis.major.locator.set_params(nbins=2) \n",
    "    subax.yaxis.major.locator.set_params(nbins=2)\n",
    "    return subax"
   ]
  },
  {
   "cell_type": "code",
   "execution_count": null,
   "metadata": {
    "scrolled": false
   },
   "outputs": [],
   "source": [
    "#initialise graph bits\n",
    "Graph = plt.figure(figsize=(15,15))\n",
    "axes = []\n",
    "insets = []\n",
    "rect = [0.55, 0.1, .45, .45]\n",
    "Variables = ['AboveGround.Wt','Grain.Number','Grain.Wt',\n",
    "             'AboveGround.N','Grain.N','Grain.Protein',\n",
    "            'Phenology.FlagLeafDAS.Value()','Phenology.FloweringDAS.Value()']\n",
    "Units = ['$g/m^2$','$/m^2$','$g/m^2$',\n",
    "        '$g/m^2$','$g/m^2$','%',\n",
    "        'days','days']\n",
    "Names = ['Biomass','Grain Number', 'Yield', 'Biomass N', 'Grain N',\n",
    "         'Grain Protein', 'Flag Leaf','Anthesis']\n",
    "Pos = 1\n",
    "#Step through each variable to be graphed\n",
    "for Var in Variables:\n",
    "    #Add a subplot\n",
    "    axes.append(Graph.add_subplot(3,3,Pos))\n",
    "    #Set up the Data to be graphed\n",
    "    NaNFilter = np.isnan(HarvestObsPred.ix[:,'Predicted.Wheat.'+Var]) | np.isnan(HarvestObsPred.ix[:,'Observed.Wheat.'+Var])\n",
    "    IaNFilter = ~NaNFilter\n",
    "    Obs = HarvestObsPred.ix[:,'Observed.Wheat.'+Var].ix[IaNFilter].values\n",
    "    Pred = HarvestObsPred.ix[:,'Predicted.Wheat.'+Var].ix[IaNFilter].values\n",
    "    #Derive some things from the data\n",
    "    uplim = max(Obs.max(),Pred.max())*1.1\n",
    "    lowlim = min(Obs.min(),Pred.min())*0.95\n",
    "    RegStats = MUte.MathUtilities.CalcRegressionStats(Var,Pred,Obs)\n",
    "    LabelText = MakeLabel(RegStats)\n",
    "    plt.text(-1.4,0.9,LabelText)\n",
    "    #Step through each experiment in the data set\n",
    "    ColPos = 0\n",
    "    ColPos2 = 0\n",
    "    MarPos = 0\n",
    "    MarPos2 = 0\n",
    "    for Exp in Experiments:\n",
    "        #Select data for the experiment and calculate means\n",
    "        RelObs = []\n",
    "        RelPred = []\n",
    "        ObsResp = []\n",
    "        PredResp = []\n",
    "        SimIDs = Factors.ix[Factors.ExperimentName == Exp].SimulationID.values\n",
    "        ExpObs = HarvestObsPred.ix[SimIDs,'Observed.Wheat.'+Var].values\n",
    "        ObsMean = HarvestObsPred.ix[SimIDs,'Observed.Wheat.'+Var].mean()\n",
    "        ExpPred = HarvestObsPred.ix[SimIDs,'Predicted.Wheat.'+Var].values\n",
    "        PredMean = HarvestObsPred.ix[SimIDs,'Predicted.Wheat.'+Var].mean()\n",
    "        #Calculate relative treatment responses\n",
    "        for x in range(len(ExpObs)):\n",
    "            ObsResp.append((ExpObs[x]-ObsMean)/ObsMean)\n",
    "            PredResp.append((ExpPred[x]-PredMean)/PredMean)\n",
    "        #Plot relative responses\n",
    "        plt.plot([-1.2,1.2],[-1.2,1.2],'--',color='g')\n",
    "        plt.plot(ObsResp,PredResp,Markers[MarPos2],color = Colors[ColPos2],label=Exp)\n",
    "        axes[Pos-1].spines['right'].set_visible(False)\n",
    "        axes[Pos-1].spines['top'].set_visible(False)\n",
    "        plt.tick_params(axis='x', which='both', bottom='on',top='off', labelbottom='on')\n",
    "        plt.tick_params(axis='y', which='both', left='on',right='off', labelbottom='on')\n",
    "        plt.title(Names[Pos-1])\n",
    "        plt.xlim(-1.5,1.5)\n",
    "        plt.ylim(-1.5,1.5)\n",
    "        ColPos2 +=1\n",
    "        if ColPos2 > 17:\n",
    "            ColPos2 = 1\n",
    "            MarPos2 +=1\n",
    "        if Pos in [1,2,3,4,5,6]:\n",
    "            axes[Pos-1].tick_params(labelbottom='off') \n",
    "        if Pos in [2,3,5,6,8,9]:\n",
    "            axes[Pos-1].tick_params(labelleft='off') \n",
    "        if Pos == 4:\n",
    "            plt.ylabel('Predicted Relative Treatment Response', fontsize =16)\n",
    "        if Pos == 8: \n",
    "            plt.xlabel('Observed Relative Treatment Response', fontsize =16)\n",
    "            plt.legend(loc = (1.25,-.13),numpoints=1,fontsize=8,ncol=2)\n",
    "    #Add insert into pannel to graph experimental means\n",
    "    insets.append(add_subplot_axes(axes[Pos-1],rect,uplim))\n",
    "    #Step through experiments and add means to inset\n",
    "    for Exp in Experiments:\n",
    "        SimIDs = Factors.ix[Factors.ExperimentName == Exp].SimulationID.values\n",
    "        ExpObs = HarvestObsPred.ix[SimIDs,'Observed.Wheat.'+Var].mean()\n",
    "        ExpPred = HarvestObsPred.ix[SimIDs,'Predicted.Wheat.'+Var].mean()\n",
    "        plt.plot([lowlim*1.2,uplim*.9],[lowlim*1.2,uplim*.9],'--',color='b')\n",
    "        plt.plot(ExpObs,ExpPred,Markers[MarPos],mec = Colors[ColPos],mfc='white',label=Exp,mew=2)\n",
    "        ColPos +=1\n",
    "        if ColPos > 17:\n",
    "            ColPos = 1\n",
    "            MarPos +=1\n",
    "    plt.ylim(0,uplim)\n",
    "    plt.xlim(0,uplim)\n",
    "    plt.tick_params(axis='x', which='both', bottom='on',top='off', labelbottom='on')\n",
    "    plt.tick_params(axis='y', which='both', left='off',right='on', labelright='on', labelleft='off')\n",
    "    plt.text(uplim*0.7,uplim*.05,Units[Pos-1],fontsize = 14)\n",
    "    Pos +=1\n",
    "plt.tight_layout \n",
    "Graph.savefig('ModelAssessment.jpg',dpi=200,pad_inches=1)"
   ]
  },
  {
   "cell_type": "code",
   "execution_count": null,
   "metadata": {},
   "outputs": [],
   "source": [
    "Experiments"
   ]
  },
  {
   "cell_type": "code",
   "execution_count": null,
   "metadata": {},
   "outputs": [],
   "source": [
    "YieldProfitValidation = pd.read_excel('WheatValidation.xlsx',sheetname='Sheet1')"
   ]
  },
  {
   "cell_type": "code",
   "execution_count": null,
   "metadata": {},
   "outputs": [],
   "source": [
    "YieldProfitValidation.ix[:,'Year'] = YieldProfitValidation.ix[:,'Clock.Today'].dt.year"
   ]
  },
  {
   "cell_type": "code",
   "execution_count": null,
   "metadata": {},
   "outputs": [],
   "source": [
    "YearList = YieldProfitValidation.ix[:,'Year'].dropna().drop_duplicates()"
   ]
  },
  {
   "cell_type": "code",
   "execution_count": null,
   "metadata": {},
   "outputs": [],
   "source": [
    "(YieldProfitValidation.ix[:,'Comments' ])==0"
   ]
  },
  {
   "cell_type": "code",
   "execution_count": null,
   "metadata": {},
   "outputs": [],
   "source": [
    "Graph = plt.figure(figsize=(6,6))\n",
    "for Year in YearList:\n",
    "    filter = (YieldProfitValidation.ix[:,'Year'] == Year) & (YieldProfitValidation.ix[:,'Observed Yield']>0) & (YieldProfitValidation.ix[:,'WetYield']>0) &(YieldProfitValidation.ix[:,'Comments' ]==0)\n",
    "    plt.plot(YieldProfitValidation.ix[filter,'Observed Yield']/100,\n",
    "            YieldProfitValidation.ix[filter, 'WetYield']/100,\n",
    "            'o')\n",
    "\n",
    "filter = (YieldProfitValidation.ix[:,'Observed Yield']>0) & (YieldProfitValidation.ix[:,'WetYield']>0) &(YieldProfitValidation.ix[:,'Comments' ]==0)\n",
    "Pred = YieldProfitValidation.ix[filter, 'WetYield']/100\n",
    "Obs = YieldProfitValidation.ix[filter,'Observed Yield']/100\n",
    "RegStats = MUte.MathUtilities.CalcRegressionStats('Grain.Wt',Pred.values,Obs.values)\n",
    "plt.ylim(0,9)\n",
    "plt.xlim(0,9)\n",
    "plt.plot([0,9],[0,9],'-',color='k',linewidth=4)\n",
    "stats = 'y = ' +'%.2f'%RegStats.Intercept + ' + ' + '%.2f'%RegStats.Slope + 'x \\n$R^2$ = ' + '%.2f'%RegStats.R2\n",
    "plt.text(0.5,7.8,stats)\n",
    "plt.plot([0,9],[RegStats.Intercept,RegStats.Intercept/100+900*RegStats.Slope/100],\n",
    "        '--',color='k',linewidth = 4)\n",
    "plt.xlabel('Observed Yield (t/ha)')\n",
    "plt.ylabel('Predicted Yield (t/ha)')"
   ]
  },
  {
   "cell_type": "code",
   "execution_count": null,
   "metadata": {},
   "outputs": [],
   "source": [
    "Pred = YieldProfitValidation.ix[filter, 'WetYield']\n",
    "Obs = YieldProfitValidation.ix[filter,'Observed Yield']\n",
    "test = MUte.MathUtilities.CalcRegressionStats('Grain.Wt',Pred.values,Obs.values)"
   ]
  },
  {
   "cell_type": "code",
   "execution_count": null,
   "metadata": {},
   "outputs": [],
   "source": [
    "'%.2f'%test.Intercept"
   ]
  },
  {
   "cell_type": "code",
   "execution_count": null,
   "metadata": {},
   "outputs": [],
   "source": [
    "test.Slope"
   ]
  },
  {
   "cell_type": "code",
   "execution_count": null,
   "metadata": {},
   "outputs": [],
   "source": [
    "test.R2"
   ]
  },
  {
   "cell_type": "code",
   "execution_count": null,
   "metadata": {},
   "outputs": [],
   "source": [
    "Obs.size"
   ]
  }
 ],
 "metadata": {
  "kernelspec": {
   "display_name": "Python 3",
   "language": "python",
   "name": "python3"
  },
  "language_info": {
   "codemirror_mode": {
    "name": "ipython",
    "version": 3
   },
   "file_extension": ".py",
   "mimetype": "text/x-python",
   "name": "python",
   "nbconvert_exporter": "python",
   "pygments_lexer": "ipython3",
   "version": "3.7.1"
  }
 },
 "nbformat": 4,
 "nbformat_minor": 1
}
