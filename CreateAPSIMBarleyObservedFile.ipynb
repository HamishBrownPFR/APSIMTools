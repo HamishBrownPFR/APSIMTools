{
 "cells": [
  {
   "cell_type": "code",
   "execution_count": 1,
   "metadata": {
    "collapsed": true
   },
   "outputs": [],
   "source": [
    "import datetime\n",
    "import pandas as pd\n",
    "import numpy as np\n",
    "import matplotlib.pyplot as plt\n",
    "%matplotlib inline"
   ]
  },
  {
   "cell_type": "markdown",
   "metadata": {},
   "source": [
    "## Bring biomass data into dataframe"
   ]
  },
  {
   "cell_type": "code",
   "execution_count": 2,
   "metadata": {
    "collapsed": false
   },
   "outputs": [],
   "source": [
    "BarleyObservedData09_10 = pd.read_csv('D:\\GitHubRepos\\ApsimX\\Prototypes\\Barley\\Observations\\BarleyObservedData09_10.txt',sep = '\\t',skiprows=[1])\n",
    "BarleyObservedData10_11 = pd.read_csv('D:\\GitHubRepos\\ApsimX\\Prototypes\\Barley\\Observations\\BarleyObservedData10_11.txt',sep = '\\t')\n",
    "BarleyObservedData11_12 = pd.read_csv('D:\\GitHubRepos\\ApsimX\\Prototypes\\Barley\\Observations\\BarleyObservedData11_12.txt',sep = '\\t',skiprows=[1])\n",
    "BarleyObservedData14_15 = pd.read_csv('D:\\GitHubRepos\\ApsimX\\Prototypes\\Barley\\Observations\\BarleyObservedData14_15.txt',sep = '\\t',skiprows=[1])\n",
    "BarleyObservedData15_16 = pd.read_csv('D:\\GitHubRepos\\ApsimX\\Prototypes\\Barley\\Observations\\BarleyObservedData15_16.txt',sep = '\\t',skiprows=[1])\n",
    "BarleyObservedData88_89 = pd.read_csv('D:\\GitHubRepos\\ApsimX\\Prototypes\\Barley\\Observations\\BarleyObservedData88_89.txt',sep = '\\t',skiprows=[1])\n",
    "BarleyObservedData95_96 = pd.read_csv('D:\\GitHubRepos\\ApsimX\\Prototypes\\Barley\\Observations\\BarleyObservedData95_96.txt',sep = '\\t',skiprows=[1])\n",
    "CPT = pd.read_excel('D:\\GitHubRepos\\ApsimX\\Prototypes\\Barley\\Observations\\CPT.xlsx',sheetname='Sheet1')\n",
    "MCPD09_10Water = pd.read_excel('D:\\GitHubRepos\\ApsimX\\Prototypes\\Barley\\Observations\\MCPD09_10Water.xlsx',sheetname='SoilWater',skiprows=[1])\n",
    "MCPD10_11Water = pd.read_excel('D:\\GitHubRepos\\ApsimX\\Prototypes\\Barley\\Observations\\MCPD10_11Water.xlsx',sheetname='SoilWater')\n",
    "MCPD11_12Water = pd.read_excel('D:\\GitHubRepos\\ApsimX\\Prototypes\\Barley\\Observations\\MCPD11_12Water.xlsx',sheetname='SoilWater')\n",
    "MCPD09_10Cover = pd.read_excel('D:\\GitHubRepos\\ApsimX\\Prototypes\\Barley\\Observations\\MCPD09_10Cover.xlsx',sheetname='Cover')\n",
    "MCPD10_11Cover = pd.read_excel('D:\\GitHubRepos\\ApsimX\\Prototypes\\Barley\\Observations\\MCPD10_11Cover.xlsx',sheetname='Sheet1')\n",
    "MCPD11_12Cover = pd.read_excel('D:\\GitHubRepos\\ApsimX\\Prototypes\\Barley\\Observations\\MCPD11_12Cover.xlsx',sheetname='Sheet1')\n",
    "AussieData = pd.read_excel('D:\\GitHubRepos\\ApsimX\\Prototypes\\Barley\\Observations\\AustralianObserved.xlsx',sheetname='Observed')\n",
    "RS2014_15VWC_layers = pd.read_excel('D:\\GitHubRepos\\ApsimX\\Prototypes\\Barley\\Observations\\RS2014_15VWC_layers.xlsx',sheetname='Sheet1')\n",
    "RS14_15CoverGreen = pd.read_excel('D:\\GitHubRepos\\ApsimX\\Prototypes\\Barley\\Observations\\RS14_15CoverGreen.xlsx',sheetname='Sheet1')\n",
    "RS14_15CoverTotal = pd.read_excel('D:\\GitHubRepos\\ApsimX\\Prototypes\\Barley\\Observations\\RS14_15CoverTotal.xlsx',sheetname='Sheet1')\n",
    "MCPD11_12Leaves = pd.read_excel('D:\\GitHubRepos\\ApsimX\\Prototypes\\Barley\\Observations\\MCPD11_12Leaves.xlsx',sheetname='Sheet1')\n",
    "MCPD09_10Nitrogen = pd.read_excel('D:\\GitHubRepos\\ApsimX\\Prototypes\\Barley\\Observations\\MCPD09_10Nitrogen.xlsx',sheetname='Sheet1')\n",
    "MCPD09_10SoilNFinal= pd.read_excel('D:\\GitHubRepos\\ApsimX\\Prototypes\\Barley\\Observations\\MCPD09_10SoilNFinal.xlsx',sheetname='Sheet1')"
   ]
  },
  {
   "cell_type": "code",
   "execution_count": 3,
   "metadata": {
    "collapsed": false
   },
   "outputs": [],
   "source": [
    "AllDataTabs = [BarleyObservedData09_10,BarleyObservedData10_11,BarleyObservedData11_12,\n",
    "               BarleyObservedData14_15, BarleyObservedData15_16,BarleyObservedData88_89, \n",
    "               BarleyObservedData95_96, CPT,MCPD09_10Water,MCPD10_11Water,\n",
    "               MCPD11_12Water,MCPD09_10Cover,MCPD10_11Cover,MCPD11_12Cover,AussieData,\n",
    "               RS2014_15VWC_layers,RS14_15CoverGreen,RS14_15CoverTotal,MCPD11_12Leaves,\n",
    "               MCPD09_10Nitrogen,MCPD09_10SoilNFinal]\n",
    "               "
   ]
  },
  {
   "cell_type": "markdown",
   "metadata": {},
   "source": [
    "## Make a column index"
   ]
  },
  {
   "cell_type": "code",
   "execution_count": 4,
   "metadata": {
    "collapsed": false
   },
   "outputs": [],
   "source": [
    "ColumnIndex = BarleyObservedData09_10.columns\n",
    "for Table in AllDataTabs:\n",
    "    ColumnIndex = ColumnIndex  | Table.columns  # the union of the merged data frame and the next in the list\n",
    "ColumnIndex = ColumnIndex.drop(['SimulationName','Clock.Today'])"
   ]
  },
  {
   "cell_type": "markdown",
   "metadata": {},
   "source": [
    "## Make row index"
   ]
  },
  {
   "cell_type": "code",
   "execution_count": 5,
   "metadata": {
    "collapsed": false
   },
   "outputs": [],
   "source": [
    "RowIndexData = BarleyObservedData09_10.ix[:,BarleyObservedData09_10.columns.isin(['SimulationName','Clock.Today'])]\n",
    "for Table in AllDataTabs:\n",
    "    RowIndexData = pd.concat([RowIndexData,Table.ix[:,Table.columns.isin(['SimulationName','Clock.Today'])]],axis=0)\n",
    "RowIndex = RowIndexData.drop_duplicates()\n",
    "RowIndex = RowIndex.dropna()\n",
    "RowIndex.ix[:,'Clock.Today'] = pd.to_datetime(RowIndex.ix[:,'Clock.Today'])\n",
    "RowIndex.set_index(['SimulationName','Clock.Today'],inplace=True)"
   ]
  },
  {
   "cell_type": "markdown",
   "metadata": {},
   "source": [
    "## Make empty Data frame"
   ]
  },
  {
   "cell_type": "code",
   "execution_count": 6,
   "metadata": {
    "collapsed": false
   },
   "outputs": [],
   "source": [
    "ObsDataFrame = pd.DataFrame(index=RowIndex.index, columns=ColumnIndex)"
   ]
  },
  {
   "cell_type": "markdown",
   "metadata": {},
   "source": [
    "## Set indexes in the smaller tables and deal to duplicate rows"
   ]
  },
  {
   "cell_type": "code",
   "execution_count": 7,
   "metadata": {
    "collapsed": true
   },
   "outputs": [],
   "source": [
    "from collections import Counter\n",
    "def MakeMean(ser):\n",
    "    Series = pd.Series(index=ser.columns)\n",
    "    for Group in ser.columns:\n",
    "        if isinstance(Group, float):\n",
    "            Series[Group] = ser[Group].mean()\n",
    "        else:\n",
    "            Series[Group] = Counter(ser[Group]).most_common(1)[0][0]\n",
    "    return Series        "
   ]
  },
  {
   "cell_type": "code",
   "execution_count": 8,
   "metadata": {
    "collapsed": false
   },
   "outputs": [],
   "source": [
    "CompressedData = []\n",
    "for Table in AllDataTabs:\n",
    "    Table.ix[:,'Clock.Today'] = pd.to_datetime(Table.ix[:,'Clock.Today'])\n",
    "    Table.set_index(['SimulationName','Clock.Today'],inplace=True)\n",
    "    Compressed = Table.groupby(level=['SimulationName','Clock.Today']).apply(MakeMean)\n",
    "    CompressedData.append(Compressed)"
   ]
  },
  {
   "cell_type": "code",
   "execution_count": 9,
   "metadata": {
    "collapsed": false
   },
   "outputs": [],
   "source": [
    "for DataTable in range(len(CompressedData)):\n",
    "    ObsDataFrame.update(CompressedData[DataTable])"
   ]
  },
  {
   "cell_type": "code",
   "execution_count": 10,
   "metadata": {
    "collapsed": true
   },
   "outputs": [],
   "source": [
    "ObsDataFrame.where(ObsDataFrame!='*',other=np.nan,inplace=True)"
   ]
  },
  {
   "cell_type": "code",
   "execution_count": 11,
   "metadata": {
    "collapsed": false
   },
   "outputs": [],
   "source": [
    "ObsDataFrame.to_excel('D:\\GitHubRepos\\ApsimX\\Prototypes\\Barley\\Observed.xlsx',merge_cells=False,sheet_name='Observed')"
   ]
  }
 ],
 "metadata": {
  "kernelspec": {
   "display_name": "Python 2",
   "language": "python",
   "name": "python2"
  },
  "language_info": {
   "codemirror_mode": {
    "name": "ipython",
    "version": 2
   },
   "file_extension": ".py",
   "mimetype": "text/x-python",
   "name": "python",
   "nbconvert_exporter": "python",
   "pygments_lexer": "ipython2",
   "version": "2.7.12"
  }
 },
 "nbformat": 4,
 "nbformat_minor": 0
}
