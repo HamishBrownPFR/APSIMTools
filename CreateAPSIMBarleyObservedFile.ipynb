{
 "cells": [
  {
   "cell_type": "code",
   "execution_count": 1,
   "metadata": {},
   "outputs": [],
   "source": [
    "import datetime\n",
    "import pandas as pd\n",
    "import numpy as np\n",
    "import matplotlib.pyplot as plt\n",
    "%matplotlib inline"
   ]
  },
  {
   "cell_type": "markdown",
   "metadata": {},
   "source": [
    "## Bring biomass data into dataframe"
   ]
  },
  {
   "cell_type": "code",
   "execution_count": 3,
   "metadata": {},
   "outputs": [
    {
     "ename": "FileNotFoundError",
     "evalue": "[Errno 2] No such file or directory: 'D:\\\\GitHubRepos\\\\Apsimx\\\\Tests\\\\Validation\\\\Barley\\\\Observations\\\\MCPD09_10Biomass.xlsx'",
     "output_type": "error",
     "traceback": [
      "\u001b[1;31m---------------------------------------------------------------------------\u001b[0m",
      "\u001b[1;31mFileNotFoundError\u001b[0m                         Traceback (most recent call last)",
      "\u001b[1;32m<ipython-input-3-8c18d09ea3c9>\u001b[0m in \u001b[0;36m<module>\u001b[1;34m()\u001b[0m\n\u001b[1;32m----> 1\u001b[1;33m \u001b[0mBarleyObservedData09_10\u001b[0m \u001b[1;33m=\u001b[0m \u001b[0mpd\u001b[0m\u001b[1;33m.\u001b[0m\u001b[0mread_excel\u001b[0m\u001b[1;33m(\u001b[0m\u001b[1;34m'D:\\GitHubRepos\\Apsimx\\Tests\\Validation\\Barley\\Observations\\MCPD09_10Biomass.xlsx'\u001b[0m\u001b[1;33m,\u001b[0m\u001b[0msheetname\u001b[0m\u001b[1;33m=\u001b[0m\u001b[1;34m'Sheet1'\u001b[0m\u001b[1;33m)\u001b[0m\u001b[1;33m\u001b[0m\u001b[0m\n\u001b[0m\u001b[0;32m      2\u001b[0m \u001b[0mBarleyObservedData10_11\u001b[0m \u001b[1;33m=\u001b[0m \u001b[0mpd\u001b[0m\u001b[1;33m.\u001b[0m\u001b[0mread_excel\u001b[0m\u001b[1;33m(\u001b[0m\u001b[1;34m'D:\\GitHubRepos\\Apsimx\\Tests\\Validation\\Barley\\Observations\\MCPD10_11Biomass.xlsx'\u001b[0m\u001b[1;33m,\u001b[0m\u001b[0msheetname\u001b[0m\u001b[1;33m=\u001b[0m\u001b[1;34m'Sheet1'\u001b[0m\u001b[1;33m)\u001b[0m\u001b[1;33m\u001b[0m\u001b[0m\n\u001b[0;32m      3\u001b[0m \u001b[0mBarleyObservedData11_12\u001b[0m \u001b[1;33m=\u001b[0m \u001b[0mpd\u001b[0m\u001b[1;33m.\u001b[0m\u001b[0mread_excel\u001b[0m\u001b[1;33m(\u001b[0m\u001b[1;34m'D:\\GitHubRepos\\Apsimx\\Tests\\Validation\\Barley\\Observations\\MCPD11_12Biomass.xlsx'\u001b[0m\u001b[1;33m,\u001b[0m\u001b[0msheetname\u001b[0m\u001b[1;33m=\u001b[0m\u001b[1;34m'Sheet1'\u001b[0m\u001b[1;33m)\u001b[0m\u001b[1;33m\u001b[0m\u001b[0m\n\u001b[0;32m      4\u001b[0m \u001b[0mBarleyObservedData14_15\u001b[0m \u001b[1;33m=\u001b[0m \u001b[0mpd\u001b[0m\u001b[1;33m.\u001b[0m\u001b[0mread_excel\u001b[0m\u001b[1;33m(\u001b[0m\u001b[1;34m'D:\\GitHubRepos\\Apsimx\\Tests\\Validation\\Barley\\Observations\\RS14_15_Biomass.xlsx'\u001b[0m\u001b[1;33m,\u001b[0m\u001b[0msheetname\u001b[0m\u001b[1;33m=\u001b[0m\u001b[1;34m'Sheet1'\u001b[0m\u001b[1;33m)\u001b[0m\u001b[1;33m\u001b[0m\u001b[0m\n\u001b[0;32m      5\u001b[0m \u001b[0mBarleyObservedData15_16\u001b[0m \u001b[1;33m=\u001b[0m \u001b[0mpd\u001b[0m\u001b[1;33m.\u001b[0m\u001b[0mread_excel\u001b[0m\u001b[1;33m(\u001b[0m\u001b[1;34m'D:\\GitHubRepos\\Apsimx\\Tests\\Validation\\Barley\\Observations\\LUDF2015_16_Biomass.xlsx'\u001b[0m\u001b[1;33m,\u001b[0m\u001b[0msheetname\u001b[0m\u001b[1;33m=\u001b[0m\u001b[1;34m'Sheet1'\u001b[0m\u001b[1;33m)\u001b[0m\u001b[1;33m\u001b[0m\u001b[0m\n",
      "\u001b[1;32m~Anaconda\\lib\\site-packages\\pandas\\util\\_decorators.py\u001b[0m in \u001b[0;36mwrapper\u001b[1;34m(*args, **kwargs)\u001b[0m\n\u001b[0;32m    175\u001b[0m                 \u001b[1;32melse\u001b[0m\u001b[1;33m:\u001b[0m\u001b[1;33m\u001b[0m\u001b[0m\n\u001b[0;32m    176\u001b[0m                     \u001b[0mkwargs\u001b[0m\u001b[1;33m[\u001b[0m\u001b[0mnew_arg_name\u001b[0m\u001b[1;33m]\u001b[0m \u001b[1;33m=\u001b[0m \u001b[0mnew_arg_value\u001b[0m\u001b[1;33m\u001b[0m\u001b[0m\n\u001b[1;32m--> 177\u001b[1;33m             \u001b[1;32mreturn\u001b[0m \u001b[0mfunc\u001b[0m\u001b[1;33m(\u001b[0m\u001b[1;33m*\u001b[0m\u001b[0margs\u001b[0m\u001b[1;33m,\u001b[0m \u001b[1;33m**\u001b[0m\u001b[0mkwargs\u001b[0m\u001b[1;33m)\u001b[0m\u001b[1;33m\u001b[0m\u001b[0m\n\u001b[0m\u001b[0;32m    178\u001b[0m         \u001b[1;32mreturn\u001b[0m \u001b[0mwrapper\u001b[0m\u001b[1;33m\u001b[0m\u001b[0m\n\u001b[0;32m    179\u001b[0m     \u001b[1;32mreturn\u001b[0m \u001b[0m_deprecate_kwarg\u001b[0m\u001b[1;33m\u001b[0m\u001b[0m\n",
      "\u001b[1;32m~Anaconda\\lib\\site-packages\\pandas\\util\\_decorators.py\u001b[0m in \u001b[0;36mwrapper\u001b[1;34m(*args, **kwargs)\u001b[0m\n\u001b[0;32m    175\u001b[0m                 \u001b[1;32melse\u001b[0m\u001b[1;33m:\u001b[0m\u001b[1;33m\u001b[0m\u001b[0m\n\u001b[0;32m    176\u001b[0m                     \u001b[0mkwargs\u001b[0m\u001b[1;33m[\u001b[0m\u001b[0mnew_arg_name\u001b[0m\u001b[1;33m]\u001b[0m \u001b[1;33m=\u001b[0m \u001b[0mnew_arg_value\u001b[0m\u001b[1;33m\u001b[0m\u001b[0m\n\u001b[1;32m--> 177\u001b[1;33m             \u001b[1;32mreturn\u001b[0m \u001b[0mfunc\u001b[0m\u001b[1;33m(\u001b[0m\u001b[1;33m*\u001b[0m\u001b[0margs\u001b[0m\u001b[1;33m,\u001b[0m \u001b[1;33m**\u001b[0m\u001b[0mkwargs\u001b[0m\u001b[1;33m)\u001b[0m\u001b[1;33m\u001b[0m\u001b[0m\n\u001b[0m\u001b[0;32m    178\u001b[0m         \u001b[1;32mreturn\u001b[0m \u001b[0mwrapper\u001b[0m\u001b[1;33m\u001b[0m\u001b[0m\n\u001b[0;32m    179\u001b[0m     \u001b[1;32mreturn\u001b[0m \u001b[0m_deprecate_kwarg\u001b[0m\u001b[1;33m\u001b[0m\u001b[0m\n",
      "\u001b[1;32m~Anaconda\\lib\\site-packages\\pandas\\io\\excel.py\u001b[0m in \u001b[0;36mread_excel\u001b[1;34m(io, sheet_name, header, names, index_col, usecols, squeeze, dtype, engine, converters, true_values, false_values, skiprows, nrows, na_values, parse_dates, date_parser, thousands, comment, skipfooter, convert_float, **kwds)\u001b[0m\n\u001b[0;32m    305\u001b[0m \u001b[1;33m\u001b[0m\u001b[0m\n\u001b[0;32m    306\u001b[0m     \u001b[1;32mif\u001b[0m \u001b[1;32mnot\u001b[0m \u001b[0misinstance\u001b[0m\u001b[1;33m(\u001b[0m\u001b[0mio\u001b[0m\u001b[1;33m,\u001b[0m \u001b[0mExcelFile\u001b[0m\u001b[1;33m)\u001b[0m\u001b[1;33m:\u001b[0m\u001b[1;33m\u001b[0m\u001b[0m\n\u001b[1;32m--> 307\u001b[1;33m         \u001b[0mio\u001b[0m \u001b[1;33m=\u001b[0m \u001b[0mExcelFile\u001b[0m\u001b[1;33m(\u001b[0m\u001b[0mio\u001b[0m\u001b[1;33m,\u001b[0m \u001b[0mengine\u001b[0m\u001b[1;33m=\u001b[0m\u001b[0mengine\u001b[0m\u001b[1;33m)\u001b[0m\u001b[1;33m\u001b[0m\u001b[0m\n\u001b[0m\u001b[0;32m    308\u001b[0m \u001b[1;33m\u001b[0m\u001b[0m\n\u001b[0;32m    309\u001b[0m     return io.parse(\n",
      "\u001b[1;32m~Anaconda\\lib\\site-packages\\pandas\\io\\excel.py\u001b[0m in \u001b[0;36m__init__\u001b[1;34m(self, io, **kwds)\u001b[0m\n\u001b[0;32m    392\u001b[0m             \u001b[0mself\u001b[0m\u001b[1;33m.\u001b[0m\u001b[0mbook\u001b[0m \u001b[1;33m=\u001b[0m \u001b[0mxlrd\u001b[0m\u001b[1;33m.\u001b[0m\u001b[0mopen_workbook\u001b[0m\u001b[1;33m(\u001b[0m\u001b[0mfile_contents\u001b[0m\u001b[1;33m=\u001b[0m\u001b[0mdata\u001b[0m\u001b[1;33m)\u001b[0m\u001b[1;33m\u001b[0m\u001b[0m\n\u001b[0;32m    393\u001b[0m         \u001b[1;32melif\u001b[0m \u001b[0misinstance\u001b[0m\u001b[1;33m(\u001b[0m\u001b[0mself\u001b[0m\u001b[1;33m.\u001b[0m\u001b[0m_io\u001b[0m\u001b[1;33m,\u001b[0m \u001b[0mcompat\u001b[0m\u001b[1;33m.\u001b[0m\u001b[0mstring_types\u001b[0m\u001b[1;33m)\u001b[0m\u001b[1;33m:\u001b[0m\u001b[1;33m\u001b[0m\u001b[0m\n\u001b[1;32m--> 394\u001b[1;33m             \u001b[0mself\u001b[0m\u001b[1;33m.\u001b[0m\u001b[0mbook\u001b[0m \u001b[1;33m=\u001b[0m \u001b[0mxlrd\u001b[0m\u001b[1;33m.\u001b[0m\u001b[0mopen_workbook\u001b[0m\u001b[1;33m(\u001b[0m\u001b[0mself\u001b[0m\u001b[1;33m.\u001b[0m\u001b[0m_io\u001b[0m\u001b[1;33m)\u001b[0m\u001b[1;33m\u001b[0m\u001b[0m\n\u001b[0m\u001b[0;32m    395\u001b[0m         \u001b[1;32melse\u001b[0m\u001b[1;33m:\u001b[0m\u001b[1;33m\u001b[0m\u001b[0m\n\u001b[0;32m    396\u001b[0m             raise ValueError('Must explicitly set engine if not passing in'\n",
      "\u001b[1;32m~Anaconda\\lib\\site-packages\\xlrd\\__init__.py\u001b[0m in \u001b[0;36mopen_workbook\u001b[1;34m(filename, logfile, verbosity, use_mmap, file_contents, encoding_override, formatting_info, on_demand, ragged_rows)\u001b[0m\n\u001b[0;32m    114\u001b[0m         \u001b[0mpeek\u001b[0m \u001b[1;33m=\u001b[0m \u001b[0mfile_contents\u001b[0m\u001b[1;33m[\u001b[0m\u001b[1;33m:\u001b[0m\u001b[0mpeeksz\u001b[0m\u001b[1;33m]\u001b[0m\u001b[1;33m\u001b[0m\u001b[0m\n\u001b[0;32m    115\u001b[0m     \u001b[1;32melse\u001b[0m\u001b[1;33m:\u001b[0m\u001b[1;33m\u001b[0m\u001b[0m\n\u001b[1;32m--> 116\u001b[1;33m         \u001b[1;32mwith\u001b[0m \u001b[0mopen\u001b[0m\u001b[1;33m(\u001b[0m\u001b[0mfilename\u001b[0m\u001b[1;33m,\u001b[0m \u001b[1;34m\"rb\"\u001b[0m\u001b[1;33m)\u001b[0m \u001b[1;32mas\u001b[0m \u001b[0mf\u001b[0m\u001b[1;33m:\u001b[0m\u001b[1;33m\u001b[0m\u001b[0m\n\u001b[0m\u001b[0;32m    117\u001b[0m             \u001b[0mpeek\u001b[0m \u001b[1;33m=\u001b[0m \u001b[0mf\u001b[0m\u001b[1;33m.\u001b[0m\u001b[0mread\u001b[0m\u001b[1;33m(\u001b[0m\u001b[0mpeeksz\u001b[0m\u001b[1;33m)\u001b[0m\u001b[1;33m\u001b[0m\u001b[0m\n\u001b[0;32m    118\u001b[0m     \u001b[1;32mif\u001b[0m \u001b[0mpeek\u001b[0m \u001b[1;33m==\u001b[0m \u001b[1;34mb\"PK\\x03\\x04\"\u001b[0m\u001b[1;33m:\u001b[0m \u001b[1;31m# a ZIP file\u001b[0m\u001b[1;33m\u001b[0m\u001b[0m\n",
      "\u001b[1;31mFileNotFoundError\u001b[0m: [Errno 2] No such file or directory: 'D:\\\\GitHubRepos\\\\Apsimx\\\\Tests\\\\Validation\\\\Barley\\\\Observations\\\\MCPD09_10Biomass.xlsx'"
     ]
    }
   ],
   "source": [
    "BarleyObservedData09_10 = pd.read_excel('D:\\GitHubRepos\\Apsimx\\Tests\\Validation\\Barley\\Observations\\MCPD09_10Biomass.xlsx',sheetname='Sheet1')\n",
    "BarleyObservedData10_11 = pd.read_excel('D:\\GitHubRepos\\Apsimx\\Tests\\Validation\\Barley\\Observations\\MCPD10_11Biomass.xlsx',sheetname='Sheet1')\n",
    "BarleyObservedData11_12 = pd.read_excel('D:\\GitHubRepos\\Apsimx\\Tests\\Validation\\Barley\\Observations\\MCPD11_12Biomass.xlsx',sheetname='Sheet1')\n",
    "BarleyObservedData14_15 = pd.read_excel('D:\\GitHubRepos\\Apsimx\\Tests\\Validation\\Barley\\Observations\\RS14_15_Biomass.xlsx',sheetname='Sheet1')\n",
    "BarleyObservedData15_16 = pd.read_excel('D:\\GitHubRepos\\Apsimx\\Tests\\Validation\\Barley\\Observations\\LUDF2015_16_Biomass.xlsx',sheetname='Sheet1')\n",
    "BarleyObservedData88_89 = pd.read_csv('D:\\GitHubRepos\\Apsimx\\Tests\\Validation\\Barley\\Observations\\BarleyObservedData88_89.txt',sep = '\\t',skiprows=[1])\n",
    "BarleyObservedData95_96 = pd.read_excel('D:\\GitHubRepos\\Apsimx\\Tests\\Validation\\Barley\\Observations\\RS95_96_Biomass.xlsx',sheetname='Sheet1')\n",
    "CPT = pd.read_excel('D:\\GitHubRepos\\Apsimx\\Tests\\Validation\\Barley\\Observations\\CPT.xlsx',sheetname='Sheet1')\n",
    "MCPD09_10Water = pd.read_excel('D:\\GitHubRepos\\Apsimx\\Tests\\Validation\\Barley\\Observations\\MCPD09_10Water.xlsx',sheetname='SoilWater',skiprows=[1])\n",
    "MCPD10_11Water = pd.read_excel('D:\\GitHubRepos\\Apsimx\\Tests\\Validation\\Barley\\Observations\\MCPD10_11Water.xlsx',sheetname='SoilWater')\n",
    "MCPD11_12Water = pd.read_excel('D:\\GitHubRepos\\Apsimx\\Tests\\Validation\\Barley\\Observations\\MCPD11_12Water.xlsx',sheetname='SoilWater')\n",
    "RS95_96_Water = pd.read_excel('D:\\GitHubRepos\\Apsimx\\Tests\\Validation\\Barley\\Observations\\RS95_96_Water.xlsx',sheetname='Sheet1')\n",
    "RS88_89_Water = pd.read_excel('D:\\GitHubRepos\\Apsimx\\Tests\\Validation\\Barley\\Observations\\RS88_89_Water.xlsx',sheetname='Sheet1')\n",
    "MCPD09_10Cover = pd.read_excel('D:\\GitHubRepos\\Apsimx\\Tests\\Validation\\Barley\\Observations\\MCPD09_10Cover.xlsx',sheetname='Cover')\n",
    "MCPD10_11Cover = pd.read_excel('D:\\GitHubRepos\\Apsimx\\Tests\\Validation\\Barley\\Observations\\MCPD10_11Cover.xlsx',sheetname='Sheet1')\n",
    "MCPD11_12Cover = pd.read_excel('D:\\GitHubRepos\\Apsimx\\Tests\\Validation\\Barley\\Observations\\MCPD11_12Cover.xlsx',sheetname='Sheet1')\n",
    "AussieData = pd.read_excel('D:\\GitHubRepos\\Apsimx\\Tests\\Validation\\Barley\\Observations\\AustralianMergedData.xlsx',sheetname='Observed')\n",
    "RS2014_15VWC_layers = pd.read_excel('D:\\GitHubRepos\\Apsimx\\Tests\\Validation\\Barley\\Observations\\RS2014_15VWC_layers.xlsx',sheetname='Sheet1')\n",
    "RS14_15CoverGreen = pd.read_excel('D:\\GitHubRepos\\Apsimx\\Tests\\Validation\\Barley\\Observations\\RS14_15CoverGreen.xlsx',sheetname='Sheet1')\n",
    "RS14_15CoverTotal = pd.read_excel('D:\\GitHubRepos\\Apsimx\\Tests\\Validation\\Barley\\Observations\\RS14_15CoverTotal.xlsx',sheetname='Sheet1')\n",
    "MCPD11_12Leaves = pd.read_excel('D:\\GitHubRepos\\Apsimx\\Tests\\Validation\\Barley\\Observations\\MCPD11_12Leaves.xlsx',sheetname='Sheet1')\n",
    "MCPD09_10Nitrogen = pd.read_excel('D:\\GitHubRepos\\Apsimx\\Tests\\Validation\\Barley\\Observations\\MCPD09_10Nitrogen.xlsx',sheetname='Sheet1')\n",
    "MCPD09_10SoilNFinal= pd.read_excel('D:\\GitHubRepos\\Apsimx\\Tests\\Validation\\Barley\\Observations\\MCPD09_10SoilNFinal.xlsx',sheetname='Sheet1')\n",
    "RS2014_15_Zadok = pd.read_excel('D:\\GitHubRepos\\Apsimx\\Tests\\Validation\\Barley\\Observations\\RS14_15_Zadok.xlsx',sheetname='Sheet1')\n",
    "ABlock99_00_LeafApp = pd.read_excel('D:\\GitHubRepos\\Apsimx\\Tests\\Validation\\Barley\\Observations\\ABlock99_00_LeafApp.xlsx',sheetname='Sheet1')\n",
    "ABlock99_00_BiomassEar = pd.read_excel('D:\\GitHubRepos\\Apsimx\\Tests\\Validation\\Barley\\Observations\\ABlock99_00_BiomassEar.xlsx',sheetname='Sheet1')\n",
    "ABlock99_00_BiomassHarvest = pd.read_excel('D:\\GitHubRepos\\Apsimx\\Tests\\Validation\\Barley\\Observations\\ABlock99_00_BiomassHarvest.xlsx',sheetname='Sheet1')\n",
    "ABlock99_00_BiomassEarly = pd.read_excel('D:\\GitHubRepos\\Apsimx\\Tests\\Validation\\Barley\\Observations\\ABlock99_00_BiomassEarly.xlsx',sheetname='Sheet1')"
   ]
  },
  {
   "cell_type": "code",
   "execution_count": 14,
   "metadata": {},
   "outputs": [],
   "source": [
    "AllDataTabs = [BarleyObservedData09_10,BarleyObservedData10_11,BarleyObservedData11_12,\n",
    "               BarleyObservedData14_15, BarleyObservedData15_16,BarleyObservedData88_89, \n",
    "               BarleyObservedData95_96, CPT,MCPD09_10Water,MCPD10_11Water,RS88_89_Water,\n",
    "               MCPD11_12Water,RS95_96_Water, MCPD09_10Cover,MCPD10_11Cover,MCPD11_12Cover,AussieData,\n",
    "               RS2014_15VWC_layers,RS14_15CoverGreen,RS14_15CoverTotal,MCPD11_12Leaves,\n",
    "               MCPD09_10Nitrogen,MCPD09_10SoilNFinal,RS2014_15_Zadok,ABlock99_00_LeafApp,\n",
    "               ABlock99_00_BiomassEar,ABlock99_00_BiomassHarvest,ABlock99_00_BiomassEarly]\n",
    "               "
   ]
  },
  {
   "cell_type": "markdown",
   "metadata": {},
   "source": [
    "## Make a column index"
   ]
  },
  {
   "cell_type": "code",
   "execution_count": 15,
   "metadata": {},
   "outputs": [],
   "source": [
    "ColumnIndex = BarleyObservedData09_10.columns\n",
    "for Table in AllDataTabs:\n",
    "    ColumnIndex = ColumnIndex  | Table.columns  # the union of the merged data frame and the next in the list\n",
    "ColumnIndex = ColumnIndex.drop(['SimulationName','Clock.Today'])"
   ]
  },
  {
   "cell_type": "markdown",
   "metadata": {},
   "source": [
    "## Make row index"
   ]
  },
  {
   "cell_type": "code",
   "execution_count": 16,
   "metadata": {},
   "outputs": [],
   "source": [
    "RowIndexData = BarleyObservedData09_10.ix[:,BarleyObservedData09_10.columns.isin(['SimulationName','Clock.Today'])]\n",
    "for Table in AllDataTabs:\n",
    "    RowIndexData = pd.concat([RowIndexData,Table.ix[:,Table.columns.isin(['SimulationName','Clock.Today'])]],axis=0)\n",
    "RowIndex = RowIndexData.drop_duplicates()\n",
    "RowIndex = RowIndex.dropna()\n",
    "RowIndex.ix[:,'Clock.Today'] = pd.to_datetime(RowIndex.ix[:,'Clock.Today'])\n",
    "RowIndex.set_index(['SimulationName','Clock.Today'],inplace=True)"
   ]
  },
  {
   "cell_type": "markdown",
   "metadata": {},
   "source": [
    "## Make empty Data frame"
   ]
  },
  {
   "cell_type": "code",
   "execution_count": 17,
   "metadata": {},
   "outputs": [],
   "source": [
    "ObsDataFrame = pd.DataFrame(index=RowIndex.index, columns=ColumnIndex)"
   ]
  },
  {
   "cell_type": "markdown",
   "metadata": {},
   "source": [
    "## Set indexes in the smaller tables and deal to duplicate rows"
   ]
  },
  {
   "cell_type": "code",
   "execution_count": 18,
   "metadata": {},
   "outputs": [],
   "source": [
    "from collections import Counter\n",
    "def MakeMean(ser):\n",
    "    Series = pd.Series(index=ser.columns)\n",
    "    for Group in ser.columns:\n",
    "        data = ser[Group].dropna()\n",
    "        if len(data) > 0:\n",
    "            if isinstance(data.values[0], float):\n",
    "                Series[Group] = data.mean()\n",
    "            else:\n",
    "                Series[Group] = Counter(data).most_common(1)[0][0]\n",
    "    return Series    "
   ]
  },
  {
   "cell_type": "code",
   "execution_count": 19,
   "metadata": {},
   "outputs": [],
   "source": [
    "CompressedData = []\n",
    "for Table in AllDataTabs:\n",
    "    Table.ix[:,'Clock.Today'] = pd.to_datetime(Table.ix[:,'Clock.Today'])\n",
    "    Table.set_index(['SimulationName','Clock.Today'],inplace=True)\n",
    "    Compressed = Table.groupby(level=['SimulationName','Clock.Today']).apply(MakeMean)\n",
    "    CompressedData.append(Compressed)"
   ]
  },
  {
   "cell_type": "code",
   "execution_count": 20,
   "metadata": {},
   "outputs": [],
   "source": [
    "for DataTable in range(len(CompressedData)):\n",
    "    ObsDataFrame.update(CompressedData[DataTable])"
   ]
  },
  {
   "cell_type": "code",
   "execution_count": 21,
   "metadata": {},
   "outputs": [],
   "source": [
    "ObsDataFrame.where(ObsDataFrame!='*',other=np.nan,inplace=True)"
   ]
  },
  {
   "cell_type": "code",
   "execution_count": 22,
   "metadata": {},
   "outputs": [],
   "source": [
    "ObsDataFrame.to_excel('D:\\GitHubRepos\\ApsimX\\Prototypes\\Barley\\Observed.xlsx',merge_cells=False,sheet_name='Observed')"
   ]
  }
 ],
 "metadata": {
  "kernelspec": {
   "display_name": "Python 3",
   "language": "python",
   "name": "python3"
  },
  "language_info": {
   "codemirror_mode": {
    "name": "ipython",
    "version": 3
   },
   "file_extension": ".py",
   "mimetype": "text/x-python",
   "name": "python",
   "nbconvert_exporter": "python",
   "pygments_lexer": "ipython3",
   "version": "3.6.5"
  }
 },
 "nbformat": 4,
 "nbformat_minor": 1
}
