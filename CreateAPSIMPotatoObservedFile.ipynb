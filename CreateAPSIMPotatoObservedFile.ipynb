{
 "cells": [
  {
   "cell_type": "code",
   "execution_count": 21,
   "metadata": {
    "collapsed": true
   },
   "outputs": [],
   "source": [
    "import datetime\n",
    "import pandas as pd\n",
    "import numpy as np\n",
    "import matplotlib.pyplot as plt\n",
    "%matplotlib inline"
   ]
  },
  {
   "cell_type": "markdown",
   "metadata": {},
   "source": [
    "## Bring biomass data into dataframe"
   ]
  },
  {
   "cell_type": "code",
   "execution_count": 22,
   "metadata": {
    "collapsed": false
   },
   "outputs": [],
   "source": [
    "V1_Observations = pd.read_csv('C:\\Users\\cflhxb\\Dropbox\\APSIMPotato\\Observed\\potato_observations.txt',delim_whitespace=True,skiprows = [1],na_values='*')\n",
    "Cultivar_Nodes = pd.read_csv('C:\\Users\\cflhxb\\Dropbox\\APSIMPotato\\Observed\\cultivar_nodenumber.txt',delim_whitespace=True,skiprows = [1])\n",
    "RadInt = pd.read_csv('C:\\Users\\cflhxb\\Dropbox\\APSIMPotato\\Observed\\Potato_radint_observations.txt',delim_whitespace=True,skiprows = [1])\n",
    "SubStore = pd.read_excel('C:\\Users\\cflhxb\\Dropbox\\APSIMPotato\\Observed\\SubStoreObservations.xlsx')\n",
    "Tassy = pd.read_excel('C:\\Users\\cflhxb\\Dropbox\\APSIMPotato\\Observed\\Tassy.xlsx')"
   ]
  },
  {
   "cell_type": "code",
   "execution_count": 23,
   "metadata": {
    "collapsed": false
   },
   "outputs": [],
   "source": [
    "AllDataTabs = [V1_Observations,\n",
    "              Cultivar_Nodes,\n",
    "              RadInt,\n",
    "              SubStore,\n",
    "              Tassy]"
   ]
  },
  {
   "cell_type": "markdown",
   "metadata": {},
   "source": [
    "## Make a column index"
   ]
  },
  {
   "cell_type": "code",
   "execution_count": 24,
   "metadata": {
    "collapsed": false
   },
   "outputs": [],
   "source": [
    "ColumnIndex = V1_Observations.columns\n",
    "for Table in AllDataTabs:\n",
    "    ColumnIndex = ColumnIndex  | Table.columns  # the union of the merged data frame and the next in the list"
   ]
  },
  {
   "cell_type": "markdown",
   "metadata": {},
   "source": [
    "## Make row index"
   ]
  },
  {
   "cell_type": "code",
   "execution_count": 25,
   "metadata": {
    "collapsed": false
   },
   "outputs": [],
   "source": [
    "RowIndexData = V1_Observations.ix[:,V1_Observations.columns.isin(['SimulationName','Clock.Today'])]\n",
    "for Table in AllDataTabs:\n",
    "    RowIndexData = pd.concat([RowIndexData,Table.ix[:,Table.columns.isin(['SimulationName','Clock.Today'])]],axis=0)\n",
    "RowIndex = RowIndexData.drop_duplicates()\n",
    "RowIndex.loc[:,'Clock.Today'] = pd.to_datetime(RowIndex.ix[:,'Clock.Today'])\n",
    "RowIndex.set_index(['SimulationName','Clock.Today'],inplace=True)"
   ]
  },
  {
   "cell_type": "markdown",
   "metadata": {},
   "source": [
    "## Make empty Data frame"
   ]
  },
  {
   "cell_type": "code",
   "execution_count": 26,
   "metadata": {
    "collapsed": false
   },
   "outputs": [],
   "source": [
    "ObsDataFrame = pd.DataFrame(index=RowIndex.index, columns=ColumnIndex)\n",
    "## Drop index columns \n",
    "ObsDataFrame.drop(['SimulationName','Clock.Today'],axis=1,inplace=True)"
   ]
  },
  {
   "cell_type": "code",
   "execution_count": null,
   "metadata": {
    "collapsed": true
   },
   "outputs": [],
   "source": []
  },
  {
   "cell_type": "markdown",
   "metadata": {},
   "source": [
    "## Set indexes in the smaller tables and deal to duplicate rows"
   ]
  },
  {
   "cell_type": "code",
   "execution_count": 27,
   "metadata": {
    "collapsed": true
   },
   "outputs": [],
   "source": [
    "from collections import Counter\n",
    "def MakeMean(ser):\n",
    "    Series = pd.Series(index=ser.columns)\n",
    "    for Group in ser.columns:\n",
    "        if isinstance(Group, float):\n",
    "            Series[Group] = ser[Group].mean()\n",
    "        else:\n",
    "            Series[Group] = Counter(ser[Group]).most_common(1)[0][0]\n",
    "    return Series        "
   ]
  },
  {
   "cell_type": "code",
   "execution_count": 28,
   "metadata": {
    "collapsed": false
   },
   "outputs": [],
   "source": [
    "CompressedData = []\n",
    "for Table in AllDataTabs:\n",
    "    Table.loc[:,'Clock.Today'] = pd.to_datetime(Table.loc[:,'Clock.Today'])\n",
    "    Table.set_index(['SimulationName','Clock.Today'],inplace=True)\n",
    "    Compressed = Table.groupby(level=['SimulationName','Clock.Today']).apply(MakeMean)\n",
    "    CompressedData.append(Compressed)"
   ]
  },
  {
   "cell_type": "code",
   "execution_count": 29,
   "metadata": {
    "collapsed": false
   },
   "outputs": [],
   "source": [
    "for DataTable in range(len(CompressedData)):\n",
    "    ObsDataFrame.update(CompressedData[DataTable])\n"
   ]
  },
  {
   "cell_type": "code",
   "execution_count": 30,
   "metadata": {
    "collapsed": false
   },
   "outputs": [],
   "source": [
    "ObsDataFrame.to_excel('C:\\Users\\cflhxb\\Dropbox\\APSIMPotato\\Observed.xlsx',merge_cells=False,sheet_name='Observed')"
   ]
  }
 ],
 "metadata": {
  "kernelspec": {
   "display_name": "Python 2",
   "language": "python",
   "name": "python2"
  },
  "language_info": {
   "codemirror_mode": {
    "name": "ipython",
    "version": 2
   },
   "file_extension": ".py",
   "mimetype": "text/x-python",
   "name": "python",
   "nbconvert_exporter": "python",
   "pygments_lexer": "ipython2",
   "version": "2.7.12"
  }
 },
 "nbformat": 4,
 "nbformat_minor": 0
}
