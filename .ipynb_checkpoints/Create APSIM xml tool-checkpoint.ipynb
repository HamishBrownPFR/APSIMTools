{
 "cells": [
  {
   "cell_type": "markdown",
   "metadata": {},
   "source": [
    "*******************Create APSIM simulation file***************"
   ]
  },
  {
   "cell_type": "markdown",
   "metadata": {},
   "source": [
    "Stuff you need to do at the beginning"
   ]
  },
  {
   "cell_type": "code",
   "execution_count": 1,
   "metadata": {},
   "outputs": [
    {
     "data": {
      "text/plain": [
       "'D:\\\\GitHubRepos'"
      ]
     },
     "execution_count": 1,
     "metadata": {},
     "output_type": "execute_result"
    }
   ],
   "source": [
    "import pandas as pd\n",
    "import numpy as np\n",
    "import matplotlib.pyplot as plt\n",
    "import copy\n",
    "from lxml import etree as ET\n",
    "from io import StringIO, BytesIO\n",
    "%matplotlib inline\n",
    "import os\n",
    "import nbconvert\n",
    "os.getcwd()"
   ]
  },
  {
   "cell_type": "markdown",
   "metadata": {},
   "source": [
    "Get the base file and link to the code"
   ]
  },
  {
   "cell_type": "code",
   "execution_count": 2,
   "metadata": {},
   "outputs": [
    {
     "ename": "IOError",
     "evalue": "[Errno 2] No such file or directory: 'BaseFile.apsimx'",
     "output_type": "error",
     "traceback": [
      "\u001b[1;31m---------------------------------------------------------------------------\u001b[0m",
      "\u001b[1;31mIOError\u001b[0m                                   Traceback (most recent call last)",
      "\u001b[1;32m<ipython-input-2-f4be9950ff0a>\u001b[0m in \u001b[0;36m<module>\u001b[1;34m()\u001b[0m\n\u001b[1;32m----> 1\u001b[1;33m \u001b[0mThisOne\u001b[0m \u001b[1;33m=\u001b[0m \u001b[0mopen\u001b[0m\u001b[1;33m(\u001b[0m\u001b[1;34m\"BaseFile.apsimx\"\u001b[0m\u001b[1;33m,\u001b[0m \u001b[1;34m\"r\"\u001b[0m\u001b[1;33m)\u001b[0m\u001b[1;33m\u001b[0m\u001b[0m\n\u001b[0m\u001b[0;32m      2\u001b[0m \u001b[0mparser\u001b[0m \u001b[1;33m=\u001b[0m \u001b[0mET\u001b[0m\u001b[1;33m.\u001b[0m\u001b[0mXMLParser\u001b[0m\u001b[1;33m(\u001b[0m\u001b[0mstrip_cdata\u001b[0m\u001b[1;33m=\u001b[0m\u001b[0mFalse\u001b[0m\u001b[1;33m)\u001b[0m\u001b[1;33m\u001b[0m\u001b[0m\n\u001b[0;32m      3\u001b[0m \u001b[0mBase\u001b[0m \u001b[1;33m=\u001b[0m \u001b[0mET\u001b[0m\u001b[1;33m.\u001b[0m\u001b[0mparse\u001b[0m\u001b[1;33m(\u001b[0m\u001b[0mThisOne\u001b[0m\u001b[1;33m,\u001b[0m \u001b[0mparser\u001b[0m\u001b[1;33m)\u001b[0m\u001b[1;33m\u001b[0m\u001b[0m\n\u001b[0;32m      4\u001b[0m \u001b[0mBaseRoot\u001b[0m \u001b[1;33m=\u001b[0m \u001b[0mBase\u001b[0m\u001b[1;33m.\u001b[0m\u001b[0mgetroot\u001b[0m\u001b[1;33m(\u001b[0m\u001b[1;33m)\u001b[0m\u001b[1;33m\u001b[0m\u001b[0m\n\u001b[0;32m      5\u001b[0m \u001b[1;32mprint\u001b[0m\u001b[1;33m(\u001b[0m\u001b[0mBaseRoot\u001b[0m\u001b[1;33m.\u001b[0m\u001b[0mtag\u001b[0m\u001b[1;33m)\u001b[0m\u001b[1;33m\u001b[0m\u001b[0m\n",
      "\u001b[1;31mIOError\u001b[0m: [Errno 2] No such file or directory: 'BaseFile.apsimx'"
     ]
    }
   ],
   "source": [
    "ThisOne = open(\"BaseFile.apsimx\", \"r\")\n",
    "parser = ET.XMLParser(strip_cdata=False)\n",
    "Base = ET.parse(ThisOne, parser)\n",
    "BaseRoot = Base.getroot()\n",
    "print(BaseRoot.tag)"
   ]
  },
  {
   "cell_type": "code",
   "execution_count": 3,
   "metadata": {},
   "outputs": [
    {
     "name": "stdout",
     "output_type": "stream",
     "text": [
      "Zone\n"
     ]
    }
   ],
   "source": [
    "ThisOne = open(\"PatchLib.xml\", \"r\")\n",
    "Patch = ET.parse(ThisOne, parser)\n",
    "RawMasterPatch = Patch.getroot()\n",
    "print(RawMasterPatch.tag)"
   ]
  },
  {
   "cell_type": "markdown",
   "metadata": {},
   "source": [
    "Get the soils library and link to the code"
   ]
  },
  {
   "cell_type": "code",
   "execution_count": 4,
   "metadata": {},
   "outputs": [
    {
     "name": "stdout",
     "output_type": "stream",
     "text": [
      "Soil_Lib\n"
     ]
    }
   ],
   "source": [
    "ThisOne = open(\"SoilLib.xml\", \"r\")\n",
    "Soil = ET.parse(ThisOne, parser)\n",
    "SoilRoot = Soil.getroot()\n",
    "print(SoilRoot.tag)"
   ]
  },
  {
   "cell_type": "markdown",
   "metadata": {},
   "source": [
    "Get the management library and link to the code"
   ]
  },
  {
   "cell_type": "code",
   "execution_count": 5,
   "metadata": {},
   "outputs": [
    {
     "name": "stdout",
     "output_type": "stream",
     "text": [
      "Manager_Lib\n"
     ]
    }
   ],
   "source": [
    "ThisOne = open(\"ManLib.xml\", \"r\")\n",
    "Manage = ET.parse(ThisOne, parser)\n",
    "ManageRoot = Manage.getroot()\n",
    "print(ManageRoot.tag)"
   ]
  },
  {
   "cell_type": "markdown",
   "metadata": {},
   "source": [
    "Get the master table that tells python how to put simulation together"
   ]
  },
  {
   "cell_type": "code",
   "execution_count": 6,
   "metadata": {},
   "outputs": [
    {
     "data": {
      "text/html": [
       "<div>\n",
       "<table border=\"1\" class=\"dataframe\">\n",
       "  <thead>\n",
       "    <tr style=\"text-align: right;\">\n",
       "      <th></th>\n",
       "      <th>Area</th>\n",
       "      <th>Zone</th>\n",
       "      <th>Patch</th>\n",
       "      <th>Landscape_</th>\n",
       "      <th>Irrigator_</th>\n",
       "      <th>PN</th>\n",
       "      <th>Slice</th>\n",
       "      <th>Field</th>\n",
       "      <th>Management</th>\n",
       "      <th>VRI</th>\n",
       "    </tr>\n",
       "  </thead>\n",
       "  <tbody>\n",
       "    <tr>\n",
       "      <th>0</th>\n",
       "      <td>5</td>\n",
       "      <td>Soil_01</td>\n",
       "      <td>Patch_0001</td>\n",
       "      <td>Neutral</td>\n",
       "      <td>1</td>\n",
       "      <td>1</td>\n",
       "      <td>1</td>\n",
       "      <td>1</td>\n",
       "      <td>Manager_Field_01</td>\n",
       "      <td>15</td>\n",
       "    </tr>\n",
       "    <tr>\n",
       "      <th>1</th>\n",
       "      <td>5</td>\n",
       "      <td>Soil_01</td>\n",
       "      <td>Patch_0002</td>\n",
       "      <td>Neutral</td>\n",
       "      <td>2</td>\n",
       "      <td>2</td>\n",
       "      <td>1</td>\n",
       "      <td>1</td>\n",
       "      <td>Manager_Field_01</td>\n",
       "      <td>10</td>\n",
       "    </tr>\n",
       "    <tr>\n",
       "      <th>2</th>\n",
       "      <td>5</td>\n",
       "      <td>Soil_01</td>\n",
       "      <td>Patch_0003</td>\n",
       "      <td>Neutral</td>\n",
       "      <td>3</td>\n",
       "      <td>3</td>\n",
       "      <td>1</td>\n",
       "      <td>1</td>\n",
       "      <td>Manager_Field_01</td>\n",
       "      <td>5</td>\n",
       "    </tr>\n",
       "  </tbody>\n",
       "</table>\n",
       "</div>"
      ],
      "text/plain": [
       "  Area     Zone       Patch Landscape_ Irrigator_ PN Slice Field  \\\n",
       "0    5  Soil_01  Patch_0001    Neutral          1  1     1     1   \n",
       "1    5  Soil_01  Patch_0002    Neutral          2  2     1     1   \n",
       "2    5  Soil_01  Patch_0003    Neutral          3  3     1     1   \n",
       "\n",
       "         Management VRI  \n",
       "0  Manager_Field_01  15  \n",
       "1  Manager_Field_01  10  \n",
       "2  Manager_Field_01   5  "
      ]
     },
     "execution_count": 6,
     "metadata": {},
     "output_type": "execute_result"
    }
   ],
   "source": [
    "Table = pd.read_csv('Table.csv',  header=0) \n",
    "Table.Field = Table.Field.astype(object)\n",
    "Table.Area = Table.Area.astype(object)\n",
    "Table.Slice = Table.Slice.astype(object)\n",
    "Table.PN = Table.PN.astype(object)\n",
    "Table.Irrigator_ = Table.Irrigator_.astype(object)\n",
    "Table.VRI = Table.VRI.astype(object)\n",
    "Table = Table.applymap(str)\n",
    "Table.head(3)"
   ]
  },
  {
   "cell_type": "code",
   "execution_count": 15,
   "metadata": {},
   "outputs": [
    {
     "data": {
      "text/html": [
       "<div>\n",
       "<table border=\"1\" class=\"dataframe\">\n",
       "  <thead>\n",
       "    <tr style=\"text-align: right;\">\n",
       "      <th></th>\n",
       "      <th>Scenerios_no</th>\n",
       "      <th>On_off</th>\n",
       "      <th>Start_irrig</th>\n",
       "      <th>Finish_irrig</th>\n",
       "      <th>Irrig_eff</th>\n",
       "      <th>Nozzle_diameter</th>\n",
       "      <th>Pivot_Length</th>\n",
       "      <th>Rev_Time</th>\n",
       "      <th>Flow_rate</th>\n",
       "      <th>Rain_pause</th>\n",
       "      <th>Days_pause</th>\n",
       "      <th>Crop_in</th>\n",
       "      <th>Application</th>\n",
       "      <th>App_freq</th>\n",
       "      <th>Resp_irrig</th>\n",
       "      <th>VRI</th>\n",
       "      <th>Soil_depth</th>\n",
       "      <th>Irrig_paw</th>\n",
       "      <th>Irrig_method</th>\n",
       "    </tr>\n",
       "  </thead>\n",
       "  <tbody>\n",
       "    <tr>\n",
       "      <th>0</th>\n",
       "      <td>1</td>\n",
       "      <td>True</td>\n",
       "      <td>10/01/1998</td>\n",
       "      <td>4/01/1999</td>\n",
       "      <td>100</td>\n",
       "      <td>10</td>\n",
       "      <td>600</td>\n",
       "      <td>24</td>\n",
       "      <td>15</td>\n",
       "      <td>100</td>\n",
       "      <td>3</td>\n",
       "      <td>True</td>\n",
       "      <td>15</td>\n",
       "      <td>3</td>\n",
       "      <td>False</td>\n",
       "      <td>False</td>\n",
       "      <td>600</td>\n",
       "      <td>50</td>\n",
       "      <td>Wettest</td>\n",
       "    </tr>\n",
       "    <tr>\n",
       "      <th>1</th>\n",
       "      <td>2</td>\n",
       "      <td>True</td>\n",
       "      <td>10/01/1998</td>\n",
       "      <td>4/01/1999</td>\n",
       "      <td>100</td>\n",
       "      <td>10</td>\n",
       "      <td>600</td>\n",
       "      <td>24</td>\n",
       "      <td>15</td>\n",
       "      <td>100</td>\n",
       "      <td>3</td>\n",
       "      <td>True</td>\n",
       "      <td>15</td>\n",
       "      <td>3</td>\n",
       "      <td>True</td>\n",
       "      <td>False</td>\n",
       "      <td>600</td>\n",
       "      <td>50</td>\n",
       "      <td>Wettest</td>\n",
       "    </tr>\n",
       "  </tbody>\n",
       "</table>\n",
       "</div>"
      ],
      "text/plain": [
       "   Scenerios_no On_off Start_irrig Finish_irrig Irrig_eff Nozzle_diameter  \\\n",
       "0             1   True  10/01/1998    4/01/1999       100              10   \n",
       "1             2   True  10/01/1998    4/01/1999       100              10   \n",
       "\n",
       "  Pivot_Length Rev_Time Flow_rate Rain_pause Days_pause Crop_in Application  \\\n",
       "0          600       24        15        100          3    True          15   \n",
       "1          600       24        15        100          3    True          15   \n",
       "\n",
       "  App_freq Resp_irrig    VRI Soil_depth Irrig_paw Irrig_method  \n",
       "0        3      False  False        600        50      Wettest  \n",
       "1        3       True  False        600        50      Wettest  "
      ]
     },
     "execution_count": 15,
     "metadata": {},
     "output_type": "execute_result"
    }
   ],
   "source": [
    "Scenerios = pd.read_csv('Scenerios.csv',  header=0)\n",
    "Scenerios.On_off = Scenerios.On_off.astype(str)\n",
    "Scenerios.Start_irrig = Scenerios.Start_irrig.astype(str)\n",
    "Scenerios.Finish_irrig = Scenerios.Finish_irrig.astype(str)\n",
    "Scenerios.Irrig_eff = Scenerios.Irrig_eff.astype(str)\n",
    "Scenerios.Nozzle_diameter = Scenerios.Nozzle_diameter.astype(str)\n",
    "Scenerios.Pivot_Length = Scenerios.Pivot_Length.astype(str)\n",
    "Scenerios.Rev_Time = Scenerios.Rev_Time.astype(str)\n",
    "Scenerios.Flow_rate = Scenerios.Flow_rate.astype(str)\n",
    "Scenerios.Rain_pause = Scenerios.Rain_pause.astype(str)\n",
    "Scenerios.Days_pause = Scenerios.Days_pause.astype(str)\n",
    "Scenerios.Crop_in = Scenerios.Crop_in.astype(str)\n",
    "Scenerios.Application = Scenerios.Application.astype(str)\n",
    "Scenerios.App_freq = Scenerios.App_freq.astype(str)\n",
    "Scenerios.Resp_irrig = Scenerios.Resp_irrig.astype(str)\n",
    "Scenerios.VRI = Scenerios.VRI.astype(str)\n",
    "Scenerios.Soil_depth = Scenerios.Soil_depth.astype(str)\n",
    "Scenerios.Irrig_paw = Scenerios.Irrig_paw.astype(str)\n",
    "Scenerios.Irrig_method = Scenerios.Irrig_method.astype(str)"
   ]
  },
  {
   "cell_type": "markdown",
   "metadata": {},
   "source": [
    "Now for the magic! ;-) ...."
   ]
  },
  {
   "cell_type": "markdown",
   "metadata": {},
   "source": [
    "Find the Simulation level"
   ]
  },
  {
   "cell_type": "code",
   "execution_count": 16,
   "metadata": {},
   "outputs": [],
   "source": [
    "Sim = BaseRoot.getiterator('Simulation')"
   ]
  },
  {
   "cell_type": "markdown",
   "metadata": {},
   "source": [
    "Using imported MasterPatch structure, change all the identifying factors and soil then insert new patches into the basefile"
   ]
  },
  {
   "cell_type": "code",
   "execution_count": 17,
   "metadata": {},
   "outputs": [],
   "source": [
    "for y in range(0,Scenerios.Scenerios_no.count()):\n",
    "    \n",
    "    ThisOne = open(\"BaseFile.apsimx\", \"r\")\n",
    "    parser = ET.XMLParser(strip_cdata=False)\n",
    "    Base = ET.parse(ThisOne, parser)\n",
    "    BaseRoot = Base.getroot()\n",
    "    \n",
    "    Sim = BaseRoot.getiterator('Simulation')\n",
    "    for SimLevel in Sim:\n",
    "        a =SimLevel.tag\n",
    "    \n",
    "    for x in range(1,len(Scenerios.columns)):\n",
    "        for temp in SimLevel.iter(tag=Scenerios.columns[x]):\n",
    "            temp.text = Scenerios.iloc[y][x]\n",
    "\n",
    "    for x in range(0,Table.Patch.count()):\n",
    "    \n",
    "        MasterPatch = copy.deepcopy(RawMasterPatch)\n",
    "    \n",
    "        MasterPatch[0].text = Table.Patch[x]\n",
    "        #print(MasterPatch[0].text)\n",
    "            \n",
    "        MasterPatch[2][0].text = 'Report' + str(Table.PN[x])\n",
    "        #print(MasterPatch[2][0].text)\n",
    "            \n",
    "        for temp in MasterPatch.iter(tag='This_field_no'):\n",
    "            temp.text = Table.Field[x]\n",
    "        \n",
    "        for temp in MasterPatch.iter(tag='This_patch_no'):\n",
    "            temp.text = Table.PN[x]\n",
    "        \n",
    "        for temp in MasterPatch.iter(tag='This_slice_no'):\n",
    "            temp.text = Table.Slice[x]\n",
    "        \n",
    "        for temp in MasterPatch.iter(tag='Soil_type'):\n",
    "            temp.text = Table.Zone[x]\n",
    "        \n",
    "        for temp in MasterPatch.iter(tag='Patch_area'):\n",
    "            temp.text = Table.Area[x]\n",
    "        \n",
    "        for temp in MasterPatch.iter(tag='Landscape_position'):\n",
    "            temp.text = Table.Landscape_[x]\n",
    "    \n",
    "        for temp in MasterPatch.iter(tag='Irrigator_position'):\n",
    "            temp.text = Table.Irrigator_[x]\n",
    "        \n",
    "        for InsertSoil in SoilRoot.iter(tag=Table.Zone[x]):\n",
    "            a =InsertSoil.tag\n",
    "        CopyInsertSoil = copy.deepcopy(InsertSoil[0])\n",
    "        MasterPatch.insert(4, CopyInsertSoil)\n",
    "    \n",
    "        CopyMasterPatch = copy.deepcopy(MasterPatch)\n",
    "    \n",
    "        Position = 9 + x\n",
    "        SimLevel.insert(Position, CopyMasterPatch)\n",
    "        \n",
    "    ManageList = set(Table.Management)\n",
    "    ManageList = list(ManageList)\n",
    "    for x in range(0,len(ManageList)):\n",
    "        for InsertManage in ManageRoot.iter(tag=ManageList[x]):\n",
    "            a= InsertManage.tag\n",
    "        CopyInsertManage = copy.deepcopy(InsertManage[0])\n",
    "        Position = 8 + x\n",
    "        SimLevel.insert(Position, CopyInsertManage)\n",
    "        \n",
    "    Base.write(\"Sim\"+str(y+1)+\".apsimx\", pretty_print=True)\n",
    "        \n",
    "        \n",
    "    #for zone in SimLevel.findall('Zone'):\n",
    "        #SimLevel.remove(zone)\n",
    "\n"
   ]
  },
  {
   "cell_type": "code",
   "execution_count": null,
   "metadata": {},
   "outputs": [],
   "source": []
  },
  {
   "cell_type": "markdown",
   "metadata": {},
   "source": [
    "Run APSIM here..."
   ]
  }
 ],
 "metadata": {
  "kernelspec": {
   "display_name": "Python 3",
   "language": "python",
   "name": "python3"
  },
  "language_info": {
   "codemirror_mode": {
    "name": "ipython",
    "version": 3
   },
   "file_extension": ".py",
   "mimetype": "text/x-python",
   "name": "python",
   "nbconvert_exporter": "python",
   "pygments_lexer": "ipython3",
   "version": "3.7.1"
  }
 },
 "nbformat": 4,
 "nbformat_minor": 1
}
