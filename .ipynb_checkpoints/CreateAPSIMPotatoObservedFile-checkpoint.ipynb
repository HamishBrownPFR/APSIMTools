{
 "cells": [
  {
   "cell_type": "code",
   "execution_count": 1,
   "metadata": {},
   "outputs": [],
   "source": [
    "import datetime\n",
    "import pandas as pd\n",
    "import numpy as np\n",
    "import matplotlib.pyplot as plt\n",
    "%matplotlib inline"
   ]
  },
  {
   "cell_type": "markdown",
   "metadata": {},
   "source": [
    "## Bring biomass data into dataframe"
   ]
  },
  {
   "cell_type": "code",
   "execution_count": 3,
   "metadata": {},
   "outputs": [
    {
     "ename": "SyntaxError",
     "evalue": "(unicode error) 'unicodeescape' codec can't decode bytes in position 2-3: truncated \\UXXXXXXXX escape (<ipython-input-3-3da259df494e>, line 1)",
     "output_type": "error",
     "traceback": [
      "\u001b[1;36m  File \u001b[1;32m\"<ipython-input-3-3da259df494e>\"\u001b[1;36m, line \u001b[1;32m1\u001b[0m\n\u001b[1;33m    V1_Observations = pd.read_csv('C:\\Users\\cflhxb\\Dropbox\\APSIMPotato\\Observed\\potato_observations.txt',delim_whitespace=True,skiprows = [1],na_values='*')\u001b[0m\n\u001b[1;37m                                 ^\u001b[0m\n\u001b[1;31mSyntaxError\u001b[0m\u001b[1;31m:\u001b[0m (unicode error) 'unicodeescape' codec can't decode bytes in position 2-3: truncated \\UXXXXXXXX escape\n"
     ]
    }
   ],
   "source": [
    "V1_Observations = pd.read_csv('C:\\Users\\cflhxb\\Dropbox\\APSIMPotato\\Observed\\potato_observations.txt',delim_whitespace=True,skiprows = [1],na_values='*')\n",
    "Cultivar_Nodes = pd.read_csv('C:\\Users\\cflhxb\\Dropbox\\APSIMPotato\\Observed\\cultivar_nodenumber.txt',delim_whitespace=True,skiprows = [1])\n",
    "RadInt = pd.read_csv('C:\\Users\\cflhxb\\Dropbox\\APSIMPotato\\Observed\\Potato_radint_observations.txt',delim_whitespace=True,skiprows = [1])\n",
    "SubStore = pd.read_excel('C:\\Users\\cflhxb\\Dropbox\\APSIMPotato\\Observed\\SubStoreObservations.xlsx')\n",
    "Tassy = pd.read_excel('C:\\Users\\cflhxb\\Dropbox\\APSIMPotato\\Observed\\Tassy.xlsx')"
   ]
  },
  {
   "cell_type": "code",
   "execution_count": 23,
   "metadata": {},
   "outputs": [],
   "source": [
    "AllDataTabs = [V1_Observations,\n",
    "              Cultivar_Nodes,\n",
    "              RadInt,\n",
    "              SubStore,\n",
    "              Tassy]"
   ]
  },
  {
   "cell_type": "markdown",
   "metadata": {},
   "source": [
    "## Make a column index"
   ]
  },
  {
   "cell_type": "code",
   "execution_count": 24,
   "metadata": {},
   "outputs": [],
   "source": [
    "ColumnIndex = V1_Observations.columns\n",
    "for Table in AllDataTabs:\n",
    "    ColumnIndex = ColumnIndex  | Table.columns  # the union of the merged data frame and the next in the list"
   ]
  },
  {
   "cell_type": "markdown",
   "metadata": {},
   "source": [
    "## Make row index"
   ]
  },
  {
   "cell_type": "code",
   "execution_count": 25,
   "metadata": {},
   "outputs": [],
   "source": [
    "RowIndexData = V1_Observations.ix[:,V1_Observations.columns.isin(['SimulationName','Clock.Today'])]\n",
    "for Table in AllDataTabs:\n",
    "    RowIndexData = pd.concat([RowIndexData,Table.ix[:,Table.columns.isin(['SimulationName','Clock.Today'])]],axis=0)\n",
    "RowIndex = RowIndexData.drop_duplicates()\n",
    "RowIndex.loc[:,'Clock.Today'] = pd.to_datetime(RowIndex.ix[:,'Clock.Today'])\n",
    "RowIndex.set_index(['SimulationName','Clock.Today'],inplace=True)"
   ]
  },
  {
   "cell_type": "markdown",
   "metadata": {},
   "source": [
    "## Make empty Data frame"
   ]
  },
  {
   "cell_type": "code",
   "execution_count": 26,
   "metadata": {},
   "outputs": [],
   "source": [
    "ObsDataFrame = pd.DataFrame(index=RowIndex.index, columns=ColumnIndex)\n",
    "## Drop index columns \n",
    "ObsDataFrame.drop(['SimulationName','Clock.Today'],axis=1,inplace=True)"
   ]
  },
  {
   "cell_type": "code",
   "execution_count": null,
   "metadata": {
    "collapsed": true
   },
   "outputs": [],
   "source": []
  },
  {
   "cell_type": "markdown",
   "metadata": {},
   "source": [
    "## Set indexes in the smaller tables and deal to duplicate rows"
   ]
  },
  {
   "cell_type": "code",
   "execution_count": 27,
   "metadata": {
    "collapsed": true
   },
   "outputs": [],
   "source": [
    "from collections import Counter\n",
    "def MakeMean(ser):\n",
    "    Series = pd.Series(index=ser.columns)\n",
    "    for Group in ser.columns:\n",
    "        if isinstance(Group, float):\n",
    "            Series[Group] = ser[Group].mean()\n",
    "        else:\n",
    "            Series[Group] = Counter(ser[Group]).most_common(1)[0][0]\n",
    "    return Series        "
   ]
  },
  {
   "cell_type": "code",
   "execution_count": 28,
   "metadata": {},
   "outputs": [],
   "source": [
    "CompressedData = []\n",
    "for Table in AllDataTabs:\n",
    "    Table.loc[:,'Clock.Today'] = pd.to_datetime(Table.loc[:,'Clock.Today'])\n",
    "    Table.set_index(['SimulationName','Clock.Today'],inplace=True)\n",
    "    Compressed = Table.groupby(level=['SimulationName','Clock.Today']).apply(MakeMean)\n",
    "    CompressedData.append(Compressed)"
   ]
  },
  {
   "cell_type": "code",
   "execution_count": 29,
   "metadata": {},
   "outputs": [],
   "source": [
    "for DataTable in range(len(CompressedData)):\n",
    "    ObsDataFrame.update(CompressedData[DataTable])\n"
   ]
  },
  {
   "cell_type": "code",
   "execution_count": 30,
   "metadata": {},
   "outputs": [],
   "source": [
    "ObsDataFrame.to_excel('C:\\Users\\cflhxb\\Dropbox\\APSIMPotato\\Observed.xlsx',merge_cells=False,sheet_name='Observed')"
   ]
  }
 ],
 "metadata": {
  "kernelspec": {
   "display_name": "Python 3",
   "language": "python",
   "name": "python3"
  },
  "language_info": {
   "codemirror_mode": {
    "name": "ipython",
    "version": 3
   },
   "file_extension": ".py",
   "mimetype": "text/x-python",
   "name": "python",
   "nbconvert_exporter": "python",
   "pygments_lexer": "ipython3",
   "version": "3.6.5"
  }
 },
 "nbformat": 4,
 "nbformat_minor": 1
}
