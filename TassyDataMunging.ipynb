{
 "cells": [
  {
   "cell_type": "code",
   "execution_count": 17,
   "metadata": {
    "collapsed": true
   },
   "outputs": [],
   "source": [
    "import datetime\n",
    "import pandas as pd\n",
    "import numpy as np\n",
    "import matplotlib.pyplot as plt\n",
    "import os\n",
    "%matplotlib inline"
   ]
  },
  {
   "cell_type": "markdown",
   "metadata": {},
   "source": [
    "## Make a list of observed files"
   ]
  },
  {
   "cell_type": "code",
   "execution_count": 18,
   "metadata": {
    "collapsed": false
   },
   "outputs": [],
   "source": [
    "TasFilePaths = []\n",
    "mydir = 'C:\\Users\\cflhxb\\Dropbox\\APSIMPotato\\Observed\\Australia'\n",
    "for file in os.listdir(mydir):\n",
    "    if file.endswith('.xls'):\n",
    "        TasFilePaths.append(os.path.join(mydir, file))\n",
    "mydir = 'C:\\Users\\cflhxb\\Dropbox\\APSIMPotato\\Observed\\Kenya'\n",
    "for file in os.listdir(mydir):\n",
    "    if file.endswith('.xls'):\n",
    "        TasFilePaths.append(os.path.join(mydir, file))      \n",
    "mydir = 'C:\\Users\\cflhxb\\Dropbox\\APSIMPotato\\Observed\\Argentina'\n",
    "for file in os.listdir(mydir):\n",
    "    if file.endswith('.xls'):\n",
    "        TasFilePaths.append(os.path.join(mydir, file))  "
   ]
  },
  {
   "cell_type": "markdown",
   "metadata": {},
   "source": [
    "## Make a list of data frames to work through"
   ]
  },
  {
   "cell_type": "code",
   "execution_count": 19,
   "metadata": {
    "collapsed": false
   },
   "outputs": [],
   "source": [
    "TasFiles = []\n",
    "for ObsTable in TasFilePaths:\n",
    "    TasFiles.append(pd.read_excel(ObsTable,index_col=[0,1]).dropna(how = 'all',axis=1).dropna(how='all'))"
   ]
  },
  {
   "cell_type": "markdown",
   "metadata": {},
   "source": [
    "## Find the column headers for observed data and and add them into a column index"
   ]
  },
  {
   "cell_type": "code",
   "execution_count": 20,
   "metadata": {
    "collapsed": false,
    "scrolled": true
   },
   "outputs": [],
   "source": [
    "ColumnHeaders = []\n",
    "for ObsTable in TasFiles:\n",
    "    ObsList = list(ObsTable.columns.values)\n",
    "    ColumnHeaders = list(set().union(ColumnHeaders, ObsList))"
   ]
  },
  {
   "cell_type": "markdown",
   "metadata": {},
   "source": [
    "## Make an empty dataframe to merge all of the data into"
   ]
  },
  {
   "cell_type": "code",
   "execution_count": 21,
   "metadata": {
    "collapsed": false
   },
   "outputs": [],
   "source": [
    "ObsData = pd.DataFrame(index = ColumnHeaders)\n",
    "for ObsTable in TasFiles:\n",
    "    ObsData = ObsData.join(ObsTable.transpose())"
   ]
  },
  {
   "cell_type": "code",
   "execution_count": 22,
   "metadata": {
    "collapsed": false
   },
   "outputs": [],
   "source": [
    "Intrim = ObsData.transpose()\n",
    "Intrim.ix[:,'SimulationName'] = [Intrim.index[x][0] for x in range(Intrim.index.size)]\n",
    "Intrim.ix[:,'Clock.Today']  = [Intrim.index[x][1] for x in range(Intrim.index.size)]\n",
    "Intrim.ix[:,'Clock.Today'] = [Intrim.ix[x,'Clock.Today'].strftime('%Y-%m-%d') for x in range(Intrim.index.size)]"
   ]
  },
  {
   "cell_type": "code",
   "execution_count": 23,
   "metadata": {
    "collapsed": false
   },
   "outputs": [],
   "source": [
    "AustralianData = Intrim.set_index(['SimulationName','Clock.Today'])\n",
    "ColumnHeaders[11] = u'PlantandHarvest.Script.FinalTag'\n",
    "AustralianData.columns = ColumnHeaders"
   ]
  },
  {
   "cell_type": "code",
   "execution_count": 24,
   "metadata": {
    "collapsed": false
   },
   "outputs": [],
   "source": [
    "AustralianData.to_excel('C:\\Users\\cflhxb\\Dropbox\\APSIMPotato\\Observed\\Tassy.xlsx',\n",
    "                              merge_cells=False)"
   ]
  }
 ],
 "metadata": {
  "kernelspec": {
   "display_name": "Python 2",
   "language": "python",
   "name": "python2"
  },
  "language_info": {
   "codemirror_mode": {
    "name": "ipython",
    "version": 2
   },
   "file_extension": ".py",
   "mimetype": "text/x-python",
   "name": "python",
   "nbconvert_exporter": "python",
   "pygments_lexer": "ipython2",
   "version": "2.7.12"
  }
 },
 "nbformat": 4,
 "nbformat_minor": 0
}
